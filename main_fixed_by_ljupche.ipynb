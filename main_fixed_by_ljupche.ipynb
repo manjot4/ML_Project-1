{
 "cells": [
  {
   "cell_type": "code",
   "execution_count": 1,
   "metadata": {},
   "outputs": [],
   "source": [
    "import numpy as np\n",
    "\n",
    "from preprocessing import PRI_jet_num_split\n",
    "from preprocessing import standardize, minmax_normalize\n",
    "from preprocessing import clean_nan\n",
    "from preprocessing import map_0_1, map_minus_1_1\n",
    "\n",
    "from cross_validation import get_model, calculate_loss, accuracy, total_cross_validation\n",
    "\n",
    "from implementations import build_poly\n",
    "\n",
    "from scripts.helpers import load_csv_data\n",
    "from scripts.helpers import predict_labels, create_csv_submission\n",
    "\n",
    "from cross_validation import gamma_lambda_selection_cv\n",
    "from cross_validation import plotting_graphs"
   ]
  },
  {
   "cell_type": "code",
   "execution_count": 2,
   "metadata": {},
   "outputs": [],
   "source": [
    "def sort_arr(ids, y_pred):\n",
    "    idx = ids.argsort()\n",
    "    return ids[idx], y_pred[idx]"
   ]
  },
  {
   "cell_type": "code",
   "execution_count": 3,
   "metadata": {},
   "outputs": [],
   "source": [
    "np.random.seed(1)"
   ]
  },
  {
   "cell_type": "code",
   "execution_count": 4,
   "metadata": {},
   "outputs": [],
   "source": [
    "train_fname = \"data/train.csv\"\n",
    "test_fname = \"data/test.csv\"\n",
    "sumbission_fname = \"data/submission.csv\""
   ]
  },
  {
   "cell_type": "code",
   "execution_count": 5,
   "metadata": {},
   "outputs": [
    {
     "name": "stdout",
     "output_type": "stream",
     "text": [
      "Shapes\n",
      "(250000, 30) (250000,) (250000,)\n",
      "(568238, 30) (568238,) (568238,)\n",
      "\n"
     ]
    }
   ],
   "source": [
    "y_train, X_train, ids_train = load_csv_data(train_fname)\n",
    "y_test, X_test, ids_test = load_csv_data(test_fname)\n",
    "\n",
    "print(\"Shapes\")\n",
    "print(X_train.shape, y_train.shape, ids_train.shape)\n",
    "print(X_test.shape, y_test.shape, ids_test.shape)\n",
    "print()"
   ]
  },
  {
   "cell_type": "code",
   "execution_count": 6,
   "metadata": {},
   "outputs": [
    {
     "name": "stdout",
     "output_type": "stream",
     "text": [
      "Number of train subsets: 8\n",
      "Number of test subsets:  8\n",
      "\n"
     ]
    }
   ],
   "source": [
    "# combine_vals = True\n",
    "combine_vals = False\n",
    "\n",
    "train_subsets = PRI_jet_num_split(y_train, X_train, ids_train, combine_vals)\n",
    "test_subsets = PRI_jet_num_split(y_test, X_test, ids_test, combine_vals)\n",
    "\n",
    "print(f\"Number of train subsets: { len(train_subsets) }\")\n",
    "print(f\"Number of test subsets:  { len(test_subsets) }\")\n",
    "print()\n",
    "\n",
    "assert len(train_subsets) == len(test_subsets)\n",
    "num_subsets = len(train_subsets)"
   ]
  },
  {
   "cell_type": "code",
   "execution_count": 10,
   "metadata": {},
   "outputs": [],
   "source": [
    "ids = np.array([])\n",
    "y_pred = np.array([])\n",
    "\n",
    "# Polynomial max degree\n",
    "max_degree = 2\n",
    "\n",
    "# GD step sizes, regularization factors\n",
    "# lambdas = np.logspace(0, 1, 5) \n",
    "# gammas = np.logspace(0, 1, 5)\n",
    "# gammas, lambdas = [1e-6, 1e-5, 1e-4], [0.0, 0.1, 1.0]\n",
    "\n",
    "# getting the score by total cross_validation\n",
    "# testing_accuracy, testing_loss = [], []"
   ]
  },
  {
   "cell_type": "code",
   "execution_count": null,
   "metadata": {},
   "outputs": [
    {
     "name": "stdout",
     "output_type": "stream",
     "text": [
      "Train shape before feature expansion:  (73790, 17)   Test shape: (168195, 17)\n",
      "Train shape after  feature expansion:  (73790, 35)   Test shape: (168195, 35)\n",
      "-2.8050530237986915 1.3677868161022848\n",
      "(0, 0)/(2, 3)\n",
      "(0, 1)/(2, 3)\n",
      "(0, 2)/(2, 3)\n",
      "(1, 0)/(2, 3)\n",
      "(1, 1)/(2, 3)\n",
      "(1, 2)/(2, 3)\n",
      "CA_tr:\n",
      " [[0.79136062 0.79136062 0.79135384]\n",
      " [0.7634029  0.7562068  0.75875457]]\n",
      "CA_te:\n",
      " [[0.79138095 0.79138095 0.79138095]\n",
      " [0.7622171  0.75523784 0.75744681]]\n",
      "LOSS_tr:\n",
      " [[25493.69411662 25493.71513707 25495.80305369]\n",
      " [30068.24486758 31076.33495361 30705.56940826]]\n",
      "LOSS_te:\n",
      " [[6380.76352045 6380.7885853  6383.27636859]\n",
      " [7550.68983107 7803.43644111 7712.7042146 ]]\n",
      "CA_tr: 0.7913606179699146\n",
      "CA_te: 0.7913809459276324\n",
      "CA_bs: 0.67566065862583\n",
      "Iter: 0  Best gamma: 5e-06  Best lambda: 0 \n",
      "\n",
      "Train shape before feature expansion:  (26123, 16)   Test shape:  (59263, 16)\n",
      "Train shape after  feature expansion:  (26123, 33)   Test shape:  (59263, 33)\n",
      "-3.2174478763724568 1.511965491791884\n",
      "(0, 0)/(2, 3)\n",
      "(0, 1)/(2, 3)\n",
      "(0, 2)/(2, 3)\n",
      "(1, 0)/(2, 3)\n",
      "(1, 1)/(2, 3)\n",
      "(1, 2)/(2, 3)\n",
      "CA_tr:\n",
      " [[0.94531968 0.94531968 0.94531011]\n",
      " [0.94515697 0.94516654 0.94563553]]\n",
      "CA_te:\n",
      " [[0.94498469 0.94498469 0.9449464 ]\n",
      " [0.94513783 0.94513783 0.94548239]]\n",
      "LOSS_tr:\n",
      " [[3685.39441294 3685.42322209 3688.29060381]\n",
      " [3863.91348977 3863.85906878 3825.3145709 ]]\n",
      "LOSS_te:\n",
      " [[929.50296955 929.52890915 932.10988381]\n",
      " [959.76911023 959.75503166 950.92382183]]\n",
      "CA_tr: 0.9456355283307811\n",
      "CA_te: 0.9454823889739663\n",
      "CA_bs: 0.9403207901083337\n",
      "Iter: 1  Best gamma: 3e-05  Best lambda: 1 \n",
      "\n",
      "Train shape before feature expansion:  (69982, 19)   Test shape: (158095, 19)\n",
      "Train shape after  feature expansion:  (69982, 39)   Test shape: (158095, 39)\n",
      "-1.7188901984834835 1.3819441511316943\n",
      "(0, 0)/(2, 3)\n",
      "(0, 1)/(2, 3)\n"
     ]
    }
   ],
   "source": [
    "for i in range(num_subsets):\n",
    "    y_train_subset, X_train_subset, ids_train_subset = train_subsets[i]\n",
    "    y_test_subset, X_test_subset, ids_test_subset = test_subsets[i]\n",
    "\n",
    "    y_train_subset = map_0_1(y_train_subset)\n",
    "    X_train_subset, X_test_subset = standardize(X_train_subset, X_test_subset)\n",
    "    print(f\"Train shape before feature expansion: {str(X_train_subset.shape):>12}   Test shape: {str(X_test_subset.shape):>12}\")\n",
    "    X_train_subset, X_test_subset = build_poly(X_train_subset, max_degree), build_poly(X_test_subset, max_degree)\n",
    "    print(f\"Train shape after  feature expansion: {str(X_train_subset.shape):>12}   Test shape: {str(X_test_subset.shape):>12}\")\n",
    "    \n",
    "    # set n_best_features to X_train_subset.shape[1] if you don't want feature selection\n",
    "    n_best_features = round(0.75 * X_train_subset.shape[1])\n",
    "    # n_best_features = X_train_subset.shape[1]\n",
    "    D = n_best_features\n",
    "    N, _ = X_train_subset.shape\n",
    "    \n",
    "    # accuracy by predicting the majority class in the training dataset\n",
    "    CA_baseline = y_train_subset.sum() / N\n",
    "    CA_baseline = max(CA_baseline, 1 - CA_baseline)\n",
    "    \n",
    "    # !!!!!! IMPORTANT\n",
    "    # If we increase the reg. factor (lambda), then we must decrease the step size (gamma)\n",
    "    # else the model diverges as the step size becomes too big.\n",
    "    \n",
    "    # FEATURE SELECTION WITH L1 REG.\n",
    "    max_iters_fs = 200\n",
    "    gamma_fs, lambda_fs = 1e-7, 1e2\n",
    "    model_fs = 'LOG_REG_L1'\n",
    "    \n",
    "    initial_w_fs = np.random.randn(X_train_subset.shape[1])\n",
    "    # get_model(model, y, tx, initial_w, max_iters, gamma, lambda_, batch_size)\n",
    "    w_fs = get_model(model_fs, y_train_subset, X_train_subset, initial_w_fs, max_iters_fs, gamma_fs, lambda_fs, 1)\n",
    "    features = np.argsort(abs(w_fs))[::-1][:n_best_features]\n",
    "    print(w_fs.min(), w_fs.max())\n",
    "    \n",
    "    # Feature selection\n",
    "    X_train_subset, X_test_subset = X_train_subset[:, features], X_test_subset[:, features]\n",
    "    \n",
    "    # tweak params\n",
    "    k_fold = 5\n",
    "    max_iters = 2000\n",
    "    # gammas, lambdas = [1e-6, 1e-5], [0.0, 1e-3, 1, 10, 100, 500]\n",
    "    gammas, lambdas = [5e-6, 3e-5], [0, 1e-2, 1, 10, 100]\n",
    "    # gammas, lambdas = [1e-2], [0]\n",
    "    seed, batch_size = 17, 1\n",
    "    metric, model = 'CA', 'LOG_REG_GD'\n",
    "    \n",
    "    initial_w = np.random.randn(D)\n",
    "    # gamma_lambda_selection_cv(y, tx, k_fold, initial_w, max_iters, gammas, lambdas, seed = 1, metric = 'CA', model = 'LOG_REG_GD')\n",
    "    optimal_gamma, optimal_lambda_ = \\\n",
    "        gamma_lambda_selection_cv(y_train_subset, X_train_subset, k_fold, initial_w, max_iters, gammas, lambdas,\n",
    "                                  seed = seed, batch_size = batch_size, metric = metric, model = model)\n",
    "    print('CA_bs:', CA_baseline)\n",
    "    print('Iter:', i, ' Best gamma:', optimal_gamma, ' Best lambda:', optimal_lambda_, '\\n')\n",
    "    \n",
    "    # get_model(model, y, tx, initial_w, max_iters, gamma, lambda_, batch_size)\n",
    "    w = get_model(model, y_train_subset, X_train_subset, initial_w, max_iters, optimal_gamma, optimal_lambda_, batch_size)\n",
    "\n",
    "    \n",
    "    y_pred_test = np.array(map_minus_1_1(predict_labels(w, X_test_subset)))\n",
    "\n",
    "    ids = np.concatenate((ids, ids_test_subset))\n",
    "    y_pred = np.concatenate((y_pred, y_pred_test))\n",
    "\n",
    "ids, y_pred = sort_arr(ids, y_pred)\n",
    "create_csv_submission(ids, y_pred, sumbission_fname)\n",
    "\n",
    "# the below example run is when combined=True."
   ]
  },
  {
   "cell_type": "code",
   "execution_count": null,
   "metadata": {},
   "outputs": [],
   "source": [
    "from implementations import compute_loss_reg_logistic_regression\n",
    "from implementations import compute_loss_reg_logistic_regression_L1\n",
    "\n",
    "def fn(x):\n",
    "    return 1.0 / (1.0 + np.exp(-x))\n",
    "\n",
    "y_example = np.array([0, 1, 1])\n",
    "x_example, w_start = np.array([[-1, 2, 5, 8], [2, -2, 1, 6], [4, 4, 6, 8]]), np.array([0, 0, 0, 0])\n",
    "#x_example, w_start = np.array([[-1], [2], [4]]), np.array([0])\n",
    "lambda_example = 10\n",
    "\n",
    "w_example_GD = get_model('LOG_REG_GD', y_example, x_example, w_start, 100000, 1e-4, lambda_example, 1)\n",
    "\n",
    "# w_example[0] = 33.379\n",
    "print(w_example_GD)\n",
    "print(fn(x_example.dot(w_example_GD)))\n",
    "print(compute_loss_reg_logistic_regression(y_example, x_example, w_start, lambda_example))\n",
    "print(compute_loss_reg_logistic_regression(y_example, x_example, w_example_GD, lambda_example))\n",
    "print()\n",
    "\n",
    "w_example_L1 = get_model('LOG_REG_L1', y_example, x_example, w_start, 100000, 1e-4, lambda_example, 1)\n",
    "\n",
    "# w_example[0] = 33.379\n",
    "print(w_example_L1)\n",
    "print(fn(x_example.dot(w_example_L1)))\n",
    "print(compute_loss_reg_logistic_regression_L1(y_example, x_example, w_start, lambda_example))\n",
    "print(compute_loss_reg_logistic_regression_L1(y_example, x_example, w_example_L1, lambda_example))\n",
    "print()\n",
    "\n",
    "\n",
    "#gamma_lambda_selection_cv(y_example, x_example, 2, w_start, 100, [1e-5, 5e-1], [0.0, 1e-3],\n",
    "#                                  seed = 1, batch_size = 1, metric = 'CA', model = 'LOG_REG_GD')\n"
   ]
  },
  {
   "cell_type": "raw",
   "metadata": {},
   "source": []
  },
  {
   "cell_type": "code",
   "execution_count": null,
   "metadata": {},
   "outputs": [],
   "source": [
    "v = np.array([-1, -2, 3])\n",
    "np.maximum(v, 0)"
   ]
  },
  {
   "cell_type": "code",
   "execution_count": null,
   "metadata": {},
   "outputs": [],
   "source": []
  },
  {
   "cell_type": "code",
   "execution_count": null,
   "metadata": {},
   "outputs": [],
   "source": [
    "# USE THIS TO TEST 1 SUBSET\n",
    "\n",
    "i = 0\n",
    "y_train_subset, X_train_subset, ids_train_subset = train_subsets[i]\n",
    "y_test_subset, X_test_subset, ids_test_subset = test_subsets[i]\n",
    "\n",
    "y_train_subset = map_0_1(y_train_subset)\n",
    "X_train_subset, X_test_subset = standardize(X_train_subset, X_test_subset)\n",
    "print(f\"Train shape before feature expansion: {str(X_train_subset.shape):>12}   Test shape: {str(X_test_subset.shape):>12}\\n\")\n",
    "X_train_subset, X_test_subset = build_poly(X_train_subset, max_degree), build_poly(X_test_subset, max_degree)\n",
    "print(f\"Train shape after  feature expansion: {str(X_train_subset.shape):>12}   Test shape: {str(X_test_subset.shape):>12}\\n\")\n",
    "\n",
    "N, D = X_train_subset.shape\n",
    "initial_w = np.random.randn(D)"
   ]
  },
  {
   "cell_type": "code",
   "execution_count": null,
   "metadata": {},
   "outputs": [],
   "source": [
    "# need to choose optimal lambda and optimal gamma together\n",
    "k_fold = 5 # can experiment with different numbers\n",
    "max_iters = 50\n",
    "\n",
    "# GD step sizes, regularization factors\n",
    "gammas, lambdas = [1e-5, 1], [0.0, 0.001]\n",
    "optimal_gamma, optimal_lambda_ = gamma_lambda_selection_cv(y_train_subset, X_train_subset, k_fold, initial_w, max_iters, gammas, lambdas)\n",
    "\n",
    "print(optimal_gamma, optimal_lambda_)\n",
    "\n",
    "_, w = reg_logistic_regression(y_train_subset, X_train_subset, optimal_lambda_, initial_w, max_iters, optimal_gamma)\n",
    "y_pred_test = np.array(map_minus_1_1(predict_labels(w, X_test_subset)))\n",
    "\n",
    "ids = np.concatenate((ids, ids_test_subset))\n",
    "y_pred = np.concatenate((y_pred, y_pred_test))\n",
    "\n",
    "ids, y_pred = sort_arr(ids, y_pred)"
   ]
  },
  {
   "cell_type": "code",
   "execution_count": null,
   "metadata": {},
   "outputs": [],
   "source": []
  }
 ],
 "metadata": {
  "kernelspec": {
   "display_name": "Python 3",
   "language": "python",
   "name": "python3"
  },
  "language_info": {
   "codemirror_mode": {
    "name": "ipython",
    "version": 3
   },
   "file_extension": ".py",
   "mimetype": "text/x-python",
   "name": "python",
   "nbconvert_exporter": "python",
   "pygments_lexer": "ipython3",
   "version": "3.7.4"
  }
 },
 "nbformat": 4,
 "nbformat_minor": 4
}
