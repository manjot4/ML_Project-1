{
 "cells": [
  {
   "cell_type": "code",
   "execution_count": 1,
   "metadata": {},
   "outputs": [],
   "source": [
    "# need to wrap main in a function such it runs all possible combinations \n",
    "# need to store optimal gamma and lambda for different possible combinations\n",
    "\n",
    "import numpy as np\n",
    "from preprocessing import PRI_jet_num_split\n",
    "from preprocessing import standardize, minmax_normalize\n",
    "from preprocessing import clean_nan\n",
    "from preprocessing import map_0_1, map_minus_1_1\n",
    "from implementations import build_poly\n",
    "from implementations import reg_logistic_regression\n",
    "from helpers import load_csv_data\n",
    "from helpers import predict_labels, create_csv_submission\n",
    "from cross_validation import gamma_lambda_selection_cv"
   ]
  },
  {
   "cell_type": "code",
   "execution_count": 2,
   "metadata": {},
   "outputs": [],
   "source": [
    "def sort_arr(ids, y_pred):\n",
    "    idx = ids.argsort()\n",
    "    return ids[idx], y_pred[idx]"
   ]
  },
  {
   "cell_type": "code",
   "execution_count": 3,
   "metadata": {},
   "outputs": [],
   "source": [
    "np.random.seed(1)"
   ]
  },
  {
   "cell_type": "code",
   "execution_count": 4,
   "metadata": {},
   "outputs": [],
   "source": [
    "train_fname = \"data/train.csv\"\n",
    "test_fname = \"data/test.csv\"\n",
    "sumbission_fname = \"data/submission.csv\""
   ]
  },
  {
   "cell_type": "code",
   "execution_count": 5,
   "metadata": {},
   "outputs": [
    {
     "name": "stdout",
     "output_type": "stream",
     "text": [
      "Shapes\n",
      "(250000, 30) (250000,) (250000,)\n",
      "(568238, 30) (568238,) (568238,)\n",
      "\n"
     ]
    }
   ],
   "source": [
    "y_train, X_train, ids_train = load_csv_data(train_fname)\n",
    "y_test, X_test, ids_test = load_csv_data(test_fname)\n",
    "\n",
    "print(\"Shapes\")\n",
    "print(X_train.shape, y_train.shape, ids_train.shape)\n",
    "print(X_test.shape, y_test.shape, ids_test.shape)\n",
    "print()"
   ]
  },
  {
   "cell_type": "code",
   "execution_count": 6,
   "metadata": {},
   "outputs": [
    {
     "name": "stdout",
     "output_type": "stream",
     "text": [
      "Number of train subsets: 8\n",
      "Number of test subsets:  8\n",
      "\n"
     ]
    }
   ],
   "source": [
    "combine_vals = False\n",
    "\n",
    "train_subsets = PRI_jet_num_split(y_train, X_train, ids_train, combine_vals)\n",
    "test_subsets = PRI_jet_num_split(y_test, X_test, ids_test, combine_vals)\n",
    "\n",
    "print(f\"Number of train subsets: { len(train_subsets) }\")\n",
    "print(f\"Number of test subsets:  { len(test_subsets) }\")\n",
    "print()\n",
    "\n",
    "assert len(train_subsets) == len(test_subsets)\n",
    "num_subsets = len(train_subsets)"
   ]
  },
  {
   "cell_type": "code",
   "execution_count": 9,
   "metadata": {},
   "outputs": [],
   "source": [
    "ids = np.array([])\n",
    "y_pred = np.array([])\n",
    "\n",
    "# Polynomial max degree\n",
    "max_degree = 2\n",
    "\n",
    "# GD step sizes, regularization factors\n",
    "lambdas = np.logspace(0, 1, 5) \n",
    "gammas = np.logspace(0, 1, 5)\n",
    "gammas, lambdas = [1e-5], [0.0]"
   ]
  },
  {
   "cell_type": "code",
   "execution_count": 10,
   "metadata": {},
   "outputs": [
    {
     "name": "stdout",
     "output_type": "stream",
     "text": [
      "Train shape before feature expansion:  (73790, 18)   Test shape: (168195, 18)\n",
      "\n",
      "Train shape after  feature expansion:  (73790, 37)   Test shape: (168195, 37)\n",
      "\n",
      "Train shape before feature expansion:  (26123, 17)   Test shape:  (59263, 17)\n",
      "\n",
      "Train shape after  feature expansion:  (26123, 35)   Test shape:  (59263, 35)\n",
      "\n",
      "Train shape before feature expansion:  (69982, 22)   Test shape: (158095, 22)\n",
      "\n",
      "Train shape after  feature expansion:  (69982, 45)   Test shape: (158095, 45)\n",
      "\n",
      "Train shape before feature expansion:   (7562, 21)   Test shape:  (17243, 21)\n",
      "\n",
      "Train shape after  feature expansion:   (7562, 43)   Test shape:  (17243, 43)\n",
      "\n",
      "Train shape before feature expansion:  (47427, 29)   Test shape: (107905, 29)\n",
      "\n",
      "Train shape after  feature expansion:  (47427, 59)   Test shape: (107905, 59)\n",
      "\n",
      "Train shape before feature expansion:   (2952, 28)   Test shape:   (6743, 28)\n",
      "\n",
      "Train shape after  feature expansion:   (2952, 57)   Test shape:   (6743, 57)\n",
      "\n",
      "Train shape before feature expansion:  (20687, 29)   Test shape:  (47555, 29)\n",
      "\n",
      "Train shape after  feature expansion:  (20687, 59)   Test shape:  (47555, 59)\n",
      "\n",
      "Train shape before feature expansion:   (1477, 28)   Test shape:   (3239, 28)\n",
      "\n",
      "Train shape after  feature expansion:   (1477, 57)   Test shape:   (3239, 57)\n",
      "\n"
     ]
    }
   ],
   "source": [
    "for i in range(num_subsets):\n",
    "    y_train_subset, X_train_subset, ids_train_subset = train_subsets[i]\n",
    "    y_test_subset, X_test_subset, ids_test_subset = test_subsets[i]\n",
    "\n",
    "    y_train_subset = map_0_1(y_train_subset)\n",
    "    X_train_subset, X_test_subset = standardize(X_train_subset, X_test_subset)\n",
    "    print(f\"Train shape before feature expansion: {str(X_train_subset.shape):>12}   Test shape: {str(X_test_subset.shape):>12}\\n\")\n",
    "    X_train_subset, X_test_subset = build_poly(X_train_subset, max_degree), build_poly(X_test_subset, max_degree)\n",
    "    print(f\"Train shape after  feature expansion: {str(X_train_subset.shape):>12}   Test shape: {str(X_test_subset.shape):>12}\\n\")\n",
    "\n",
    "    N, D = X_train_subset.shape\n",
    "    initial_w = np.random.randn(D)\n",
    "    \n",
    "    # need to choose optimal lambda and optimal gamma together\n",
    "    k_fold = 4\n",
    "    max_iters = 50\n",
    "\n",
    "    optimal_gamma, optimal_lambda_ = gamma_lambda_selection_cv(y_train_subset, X_train_subset, k_fold, initial_w, max_iters, gammas, lambdas)\n",
    "    \n",
    "    _, w = reg_logistic_regression(y_train_subset, X_train_subset, optimal_lambda_, initial_w, max_iters, optimal_gamma)\n",
    "    y_pred_test = np.array(map_minus_1_1(predict_labels(w, X_test_subset)))\n",
    "\n",
    "    ids = np.concatenate((ids, ids_test_subset))\n",
    "    y_pred = np.concatenate((y_pred, y_pred_test))\n",
    "\n",
    "ids, y_pred = sort_arr(ids, y_pred)\n",
    "create_csv_submission(ids, y_pred, sumbission_fname)"
   ]
  },
  {
   "cell_type": "code",
   "execution_count": null,
   "metadata": {},
   "outputs": [],
   "source": [
    "# USE THIS TO TEST 1 SUBSET\n",
    "\n",
    "i = 0\n",
    "y_train_subset, X_train_subset, ids_train_subset = train_subsets[i]\n",
    "y_test_subset, X_test_subset, ids_test_subset = test_subsets[i]\n",
    "\n",
    "y_train_subset = map_0_1(y_train_subset)\n",
    "X_train_subset, X_test_subset = standardize(X_train_subset, X_test_subset)\n",
    "print(f\"Train shape before feature expansion: {str(X_train_subset.shape):>12}   Test shape: {str(X_test_subset.shape):>12}\\n\")\n",
    "X_train_subset, X_test_subset = build_poly(X_train_subset, max_degree), build_poly(X_test_subset, max_degree)\n",
    "print(f\"Train shape after  feature expansion: {str(X_train_subset.shape):>12}   Test shape: {str(X_test_subset.shape):>12}\\n\")\n",
    "\n",
    "N, D = X_train_subset.shape\n",
    "initial_w = np.random.randn(D)"
   ]
  },
  {
   "cell_type": "code",
   "execution_count": null,
   "metadata": {},
   "outputs": [],
   "source": [
    "# need to choose optimal lambda and optimal gamma together\n",
    "k_fold = 5 # can experiment with different numbers\n",
    "max_iters = 50\n",
    "\n",
    "# GD step sizes, regularization factors\n",
    "gammas, lambdas = [1e-5, 1], [0.0, 0.001]\n",
    "optimal_gamma, optimal_lambda_ = gamma_lambda_selection_cv(y_train_subset, X_train_subset, k_fold, initial_w, max_iters, gammas, lambdas)\n",
    "\n",
    "print(optimal_gamma, optimal_lambda_)\n",
    "\n",
    "_, w = reg_logistic_regression(y_train_subset, X_train_subset, optimal_lambda_, initial_w, max_iters, optimal_gamma)\n",
    "y_pred_test = np.array(map_minus_1_1(predict_labels(w, X_test_subset)))\n",
    "\n",
    "ids = np.concatenate((ids, ids_test_subset))\n",
    "y_pred = np.concatenate((y_pred, y_pred_test))\n",
    "\n",
    "ids, y_pred = sort_arr(ids, y_pred)"
   ]
  },
  {
   "cell_type": "code",
   "execution_count": null,
   "metadata": {},
   "outputs": [],
   "source": []
  }
 ],
 "metadata": {
  "kernelspec": {
   "display_name": "Python 3",
   "language": "python",
   "name": "python3"
  },
  "language_info": {
   "codemirror_mode": {
    "name": "ipython",
    "version": 3
   },
   "file_extension": ".py",
   "mimetype": "text/x-python",
   "name": "python",
   "nbconvert_exporter": "python",
   "pygments_lexer": "ipython3",
   "version": "3.7.4"
  }
 },
 "nbformat": 4,
 "nbformat_minor": 4
}
