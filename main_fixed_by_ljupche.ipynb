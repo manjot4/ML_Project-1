{
 "cells": [
  {
   "cell_type": "code",
   "execution_count": 1,
   "metadata": {},
   "outputs": [],
   "source": [
    "import numpy as np\n",
    "\n",
    "from preprocessing import PRI_jet_num_split\n",
    "from preprocessing import standardize, minmax_normalize\n",
    "from preprocessing import clean_nan\n",
    "from preprocessing import map_0_1, map_minus_1_1\n",
    "\n",
    "from cross_validation import get_model, calculate_loss, accuracy, total_cross_validation\n",
    "\n",
    "from implementations import build_poly\n",
    "\n",
    "from scripts.helpers import load_csv_data\n",
    "from scripts.helpers import predict_labels, create_csv_submission\n",
    "\n",
    "from cross_validation import gamma_lambda_selection_cv\n",
    "from cross_validation import plotting_graphs"
   ]
  },
  {
   "cell_type": "code",
   "execution_count": 2,
   "metadata": {},
   "outputs": [],
   "source": [
    "def sort_arr(ids, y_pred):\n",
    "    idx = ids.argsort()\n",
    "    return ids[idx], y_pred[idx]"
   ]
  },
  {
   "cell_type": "code",
   "execution_count": 3,
   "metadata": {},
   "outputs": [],
   "source": [
    "np.random.seed(1)"
   ]
  },
  {
   "cell_type": "code",
   "execution_count": 4,
   "metadata": {},
   "outputs": [],
   "source": [
    "train_fname = \"data/train.csv\"\n",
    "test_fname = \"data/test.csv\"\n",
    "sumbission_fname = \"data/submission.csv\""
   ]
  },
  {
   "cell_type": "code",
   "execution_count": 5,
   "metadata": {},
   "outputs": [
    {
     "name": "stdout",
     "output_type": "stream",
     "text": [
      "Shapes\n",
      "(250000, 30) (250000,) (250000,)\n",
      "(568238, 30) (568238,) (568238,)\n",
      "\n"
     ]
    }
   ],
   "source": [
    "y_train, X_train, ids_train = load_csv_data(train_fname)\n",
    "y_test, X_test, ids_test = load_csv_data(test_fname)\n",
    "\n",
    "print(\"Shapes\")\n",
    "print(X_train.shape, y_train.shape, ids_train.shape)\n",
    "print(X_test.shape, y_test.shape, ids_test.shape)\n",
    "print()"
   ]
  },
  {
   "cell_type": "code",
   "execution_count": 6,
   "metadata": {},
   "outputs": [
    {
     "name": "stdout",
     "output_type": "stream",
     "text": [
      "Number of train subsets: 8\n",
      "Number of test subsets:  8\n",
      "\n"
     ]
    }
   ],
   "source": [
    "# combine_vals = True\n",
    "combine_vals = False\n",
    "\n",
    "train_subsets = PRI_jet_num_split(y_train, X_train, ids_train, combine_vals)\n",
    "test_subsets = PRI_jet_num_split(y_test, X_test, ids_test, combine_vals)\n",
    "\n",
    "print(f\"Number of train subsets: { len(train_subsets) }\")\n",
    "print(f\"Number of test subsets:  { len(test_subsets) }\")\n",
    "print()\n",
    "\n",
    "assert len(train_subsets) == len(test_subsets)\n",
    "num_subsets = len(train_subsets)"
   ]
  },
  {
   "cell_type": "code",
   "execution_count": 32,
   "metadata": {},
   "outputs": [],
   "source": [
    "ids = np.array([])\n",
    "y_pred = np.array([])\n",
    "\n",
    "# Polynomial max degree\n",
    "max_degree = 2\n",
    "\n",
    "# GD step sizes, regularization factors\n",
    "# lambdas = np.logspace(0, 1, 5) \n",
    "# gammas = np.logspace(0, 1, 5)\n",
    "# gammas, lambdas = [1e-6, 1e-5, 1e-4], [0.0, 0.1, 1.0]\n",
    "\n",
    "# getting the score by total cross_validation\n",
    "# testing_accuracy, testing_loss = [], []"
   ]
  },
  {
   "cell_type": "code",
   "execution_count": null,
   "metadata": {},
   "outputs": [
    {
     "name": "stdout",
     "output_type": "stream",
     "text": [
      "Train shape before feature expansion:  (73790, 18)   Test shape: (168195, 18)\n",
      "Train shape after  feature expansion:  (73790, 37)   Test shape: (168195, 37)\n",
      "\n",
      "(0, 0)/(3, 6)\n",
      "(0, 1)/(3, 6)\n",
      "(0, 2)/(3, 6)\n",
      "(0, 3)/(3, 6)\n",
      "(0, 4)/(3, 6)\n",
      "(0, 5)/(3, 6)\n",
      "(1, 0)/(3, 6)\n",
      "(1, 1)/(3, 6)\n",
      "(1, 2)/(3, 6)\n",
      "(1, 3)/(3, 6)\n",
      "(1, 4)/(3, 6)\n",
      "(1, 5)/(3, 6)\n",
      "(2, 0)/(3, 6)\n",
      "(2, 1)/(3, 6)\n",
      "(2, 2)/(3, 6)\n",
      "(2, 3)/(3, 6)\n",
      "(2, 4)/(3, 6)\n",
      "(2, 5)/(3, 6)\n",
      "CA_tr:\n",
      " [[0.75928988 0.75928988 0.75928649 0.75919501 0.75859195 0.7559527 ]\n",
      " [0.79058138 0.79058138 0.79058138 0.7905746  0.7904628  0.78469305]\n",
      " [0.76813593 0.72671432 0.73584158 0.72041943 0.72308578 0.74498238]]\n",
      "CA_te:\n",
      " [[0.75912725 0.75912725 0.75912725 0.75915436 0.75842255 0.75595609]\n",
      " [0.79054072 0.79054072 0.79054072 0.79054072 0.79055428 0.7845643 ]\n",
      " [0.7673804  0.72645345 0.73554682 0.72091069 0.72253693 0.74478927]]\n",
      "LOSS_tr:\n",
      " [[3.46700618e+04 3.46700751e+04 3.46833347e+04 3.48032192e+04\n",
      "  3.60453454e+04 4.26177027e+04]\n",
      " [2.61743892e+04 2.61743959e+04 2.61811626e+04 2.62441456e+04\n",
      "  2.71185679e+04 4.69179504e+04]\n",
      " [8.90239642e+04 1.03854116e+05 9.33538625e+04 1.00393437e+05\n",
      "  1.40200702e+05 8.88602697e+11]]\n",
      "LOSS_te:\n",
      " [[8.67851759e+03 8.67852844e+03 8.68937885e+03 8.78751677e+03\n",
      "  9.80797093e+03 1.52976514e+04]\n",
      " [6.55326012e+03 6.55326589e+03 6.55904682e+03 6.61295585e+03\n",
      "  7.37471060e+03 2.56425135e+04]\n",
      " [2.22640024e+04 2.59311076e+04 2.34337107e+04 2.56926458e+04\n",
      "  6.71736548e+04 8.88602567e+11]]\n",
      "CA_tr: 0.7904627998373763\n",
      "CA_te: 0.7905542756471067\n",
      "CA_bs: 0.67566065862583\n",
      "Iter: 0  Best gamma: 1e-05  Best lambda: 100\n",
      "Train shape before feature expansion:  (26123, 17)   Test shape:  (59263, 17)\n",
      "Train shape after  feature expansion:  (26123, 35)   Test shape:  (59263, 35)\n",
      "\n",
      "(0, 0)/(3, 6)\n",
      "(0, 1)/(3, 6)\n"
     ]
    }
   ],
   "source": [
    "for i in range(num_subsets):\n",
    "    y_train_subset, X_train_subset, ids_train_subset = train_subsets[i]\n",
    "    y_test_subset, X_test_subset, ids_test_subset = test_subsets[i]\n",
    "\n",
    "    y_train_subset = map_0_1(y_train_subset)\n",
    "    X_train_subset, X_test_subset = standardize(X_train_subset, X_test_subset)\n",
    "    print(f\"Train shape before feature expansion: {str(X_train_subset.shape):>12}   Test shape: {str(X_test_subset.shape):>12}\")\n",
    "    X_train_subset, X_test_subset = build_poly(X_train_subset, max_degree), build_poly(X_test_subset, max_degree)\n",
    "    print(f\"Train shape after  feature expansion: {str(X_train_subset.shape):>12}   Test shape: {str(X_test_subset.shape):>12}\\n\")\n",
    "\n",
    "    N, D = X_train_subset.shape\n",
    "    initial_w = np.random.randn(D)\n",
    "    \n",
    "    CA_baseline = y_train_subset.sum() / N\n",
    "    CA_baseline = max(CA_baseline, 1 - CA_baseline)\n",
    "    \n",
    "    # tweak params\n",
    "    k_fold = 5\n",
    "    # dont use high step sizes with high regularization\n",
    "    max_iters = 200\n",
    "    gammas, lambdas = [1e-6, 1e-5, 1e-4], [0.0, 1e-3, 1, 10, 100, 500]\n",
    "    # gammas, lambdas = [1e-6], [1e4]\n",
    "    # gammas, lambdas = [1e-2], [0]\n",
    "# overflow warning/error for lambda values more than 10 (need to check this)\n",
    "\n",
    "    seed = 17\n",
    "    batch_size = 1\n",
    "    metric = 'CA'\n",
    "    model = 'LOG_REG_GD'\n",
    "    \n",
    "    # gamma_lambda_selection_cv(y, tx, k_fold, initial_w, max_iters, gammas, lambdas, seed = 1, metric = 'CA', model = 'LOG_REG_GD')\n",
    "    optimal_gamma, optimal_lambda_ = \\\n",
    "        gamma_lambda_selection_cv(y_train_subset, X_train_subset, k_fold, initial_w, max_iters, gammas, lambdas,\n",
    "                                  seed = seed, batch_size = batch_size, metric = metric, model = model)\n",
    "    \n",
    "    print('CA_bs:', CA_baseline)\n",
    "    print('Iter:', i, ' Best gamma:', optimal_gamma, ' Best lambda:', optimal_lambda_)\n",
    "    \n",
    "    \n",
    "    # calling total cross_validation function to get tr_ac, te_ac, loss_tr, loss_te for each subset     \n",
    "    # loss_tr, loss_te, tr_ca, te_ca = total_cross_validation(y_train_subset, X_train_subset, k_fold, initial_w, \\\n",
    "    #                             max_iters, optimal_gamma, optimal_lambda_, seed = 1, batch_size = 1, model = 'LOG_REG_GD')\n",
    "    # testing_loss.append(loss_te)\n",
    "    # testing_accuracy.append(te_ca)\n",
    "\n",
    "    \n",
    "#      plotting graphs (between accuracy/loss and subset of hyperparameter values) \n",
    "#       will only plot for Reg_logistic after getting maximum accuracy on ai_crowd\n",
    "#     plotting_graphs(y_train_subset, X_train_subset, k_fold, initial_w, max_iters, gammas, \\\n",
    "#                 lambdas, optimal_lambda_, optimal_gamma, i, seed = 1, model = 'LOG_REG_GD')\n",
    "    \n",
    "    \n",
    "    # get_model(model, y, tx, initial_w, max_iters, gamma, lambda_, batch_size)\n",
    "    w = get_model(model, y_train_subset, X_train_subset, initial_w, max_iters, optimal_gamma, optimal_lambda_, batch_size)\n",
    "    \n",
    "\n",
    "\n",
    "    y_pred_test = np.array(map_minus_1_1(predict_labels(w, X_test_subset)))\n",
    "\n",
    "    ids = np.concatenate((ids, ids_test_subset))\n",
    "    y_pred = np.concatenate((y_pred, y_pred_test))\n",
    "\n",
    "ids, y_pred = sort_arr(ids, y_pred)\n",
    "create_csv_submission(ids, y_pred, sumbission_fname)\n",
    "\n",
    "# the below example run is when combined=True."
   ]
  },
  {
   "cell_type": "code",
   "execution_count": null,
   "metadata": {},
   "outputs": [],
   "source": [
    "from implementations import compute_loss_reg_logistic_regression\n",
    "\n",
    "def fn(x):\n",
    "    return 1.0 / (1.0 + np.exp(-x))\n",
    "\n",
    "y_example = np.array([0, 1, 1])\n",
    "x_example = np.array([[-1, 2], [2, -2], [4, 4]])\n",
    "x_example = np.array([[-1], [2], [4]])\n",
    "lambda_example = 0\n",
    "\n",
    "w_start = np.array([0])\n",
    "w_example = get_model('LOG_REG_GD', y_example, x_example, w_start, 100000, 1e-2, lambda_example, 1)\n",
    "\n",
    "# w_example[0] = 33.379\n",
    "print(w_example)\n",
    "print(fn(x_example.dot(w_example)))\n",
    "print(compute_loss_reg_logistic_regression(y_example, x_example, w_start, lambda_example))\n",
    "print(compute_loss_reg_logistic_regression(y_example, x_example, w_example, lambda_example))\n",
    "\n",
    "#gamma_lambda_selection_cv(y_example, x_example, 2, w_start, 100, [1e-5, 5e-1], [0.0, 1e-3],\n",
    "#                                  seed = 1, batch_size = 1, metric = 'CA', model = 'LOG_REG_GD')\n"
   ]
  },
  {
   "cell_type": "raw",
   "metadata": {},
   "source": []
  },
  {
   "cell_type": "code",
   "execution_count": null,
   "metadata": {},
   "outputs": [],
   "source": [
    "v = np.array([-1, -2, 3])\n",
    "np.maximum(v, 0)"
   ]
  },
  {
   "cell_type": "code",
   "execution_count": null,
   "metadata": {},
   "outputs": [],
   "source": []
  },
  {
   "cell_type": "code",
   "execution_count": null,
   "metadata": {},
   "outputs": [],
   "source": [
    "# USE THIS TO TEST 1 SUBSET\n",
    "\n",
    "i = 0\n",
    "y_train_subset, X_train_subset, ids_train_subset = train_subsets[i]\n",
    "y_test_subset, X_test_subset, ids_test_subset = test_subsets[i]\n",
    "\n",
    "y_train_subset = map_0_1(y_train_subset)\n",
    "X_train_subset, X_test_subset = standardize(X_train_subset, X_test_subset)\n",
    "print(f\"Train shape before feature expansion: {str(X_train_subset.shape):>12}   Test shape: {str(X_test_subset.shape):>12}\\n\")\n",
    "X_train_subset, X_test_subset = build_poly(X_train_subset, max_degree), build_poly(X_test_subset, max_degree)\n",
    "print(f\"Train shape after  feature expansion: {str(X_train_subset.shape):>12}   Test shape: {str(X_test_subset.shape):>12}\\n\")\n",
    "\n",
    "N, D = X_train_subset.shape\n",
    "initial_w = np.random.randn(D)"
   ]
  },
  {
   "cell_type": "code",
   "execution_count": null,
   "metadata": {},
   "outputs": [],
   "source": [
    "# need to choose optimal lambda and optimal gamma together\n",
    "k_fold = 5 # can experiment with different numbers\n",
    "max_iters = 50\n",
    "\n",
    "# GD step sizes, regularization factors\n",
    "gammas, lambdas = [1e-5, 1], [0.0, 0.001]\n",
    "optimal_gamma, optimal_lambda_ = gamma_lambda_selection_cv(y_train_subset, X_train_subset, k_fold, initial_w, max_iters, gammas, lambdas)\n",
    "\n",
    "print(optimal_gamma, optimal_lambda_)\n",
    "\n",
    "_, w = reg_logistic_regression(y_train_subset, X_train_subset, optimal_lambda_, initial_w, max_iters, optimal_gamma)\n",
    "y_pred_test = np.array(map_minus_1_1(predict_labels(w, X_test_subset)))\n",
    "\n",
    "ids = np.concatenate((ids, ids_test_subset))\n",
    "y_pred = np.concatenate((y_pred, y_pred_test))\n",
    "\n",
    "ids, y_pred = sort_arr(ids, y_pred)"
   ]
  },
  {
   "cell_type": "code",
   "execution_count": null,
   "metadata": {},
   "outputs": [],
   "source": []
  }
 ],
 "metadata": {
  "kernelspec": {
   "display_name": "Python 3",
   "language": "python",
   "name": "python3"
  },
  "language_info": {
   "codemirror_mode": {
    "name": "ipython",
    "version": 3
   },
   "file_extension": ".py",
   "mimetype": "text/x-python",
   "name": "python",
   "nbconvert_exporter": "python",
   "pygments_lexer": "ipython3",
   "version": "3.7.4"
  }
 },
 "nbformat": 4,
 "nbformat_minor": 4
}
