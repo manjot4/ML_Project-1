{
 "cells": [
  {
   "cell_type": "code",
   "execution_count": 1,
   "metadata": {},
   "outputs": [],
   "source": [
    "# need to wrap main in a function such it runs all possible combinations \n",
    "# need to store optimal gamma and lambda for different possible combinations\n",
    "\n",
    "import numpy as np\n",
    "\n",
    "from preprocessing import PRI_jet_num_split\n",
    "from preprocessing import standardize, minmax_normalize\n",
    "from preprocessing import clean_nan\n",
    "from preprocessing import map_0_1, map_minus_1_1\n",
    "\n",
    "from cross_validation import get_model, calculate_loss, accuracy\n",
    "\n",
    "from implementations import build_poly\n",
    "\n",
    "from helpers import load_csv_data\n",
    "from helpers import predict_labels, create_csv_submission\n",
    "\n",
    "from cross_validation import gamma_lambda_selection_cv"
   ]
  },
  {
   "cell_type": "code",
   "execution_count": 2,
   "metadata": {},
   "outputs": [],
   "source": [
    "def sort_arr(ids, y_pred):\n",
    "    idx = ids.argsort()\n",
    "    return ids[idx], y_pred[idx]"
   ]
  },
  {
   "cell_type": "code",
   "execution_count": 3,
   "metadata": {},
   "outputs": [],
   "source": [
    "np.random.seed(1)"
   ]
  },
  {
   "cell_type": "code",
   "execution_count": 4,
   "metadata": {},
   "outputs": [],
   "source": [
    "train_fname = \"data/train.csv\"\n",
    "test_fname = \"data/test.csv\"\n",
    "sumbission_fname = \"data/submission.csv\""
   ]
  },
  {
   "cell_type": "code",
   "execution_count": 5,
   "metadata": {},
   "outputs": [
    {
     "name": "stdout",
     "output_type": "stream",
     "text": [
      "Shapes\n",
      "(250000, 30) (250000,) (250000,)\n",
      "(568238, 30) (568238,) (568238,)\n",
      "\n"
     ]
    }
   ],
   "source": [
    "y_train, X_train, ids_train = load_csv_data(train_fname)\n",
    "y_test, X_test, ids_test = load_csv_data(test_fname)\n",
    "\n",
    "print(\"Shapes\")\n",
    "print(X_train.shape, y_train.shape, ids_train.shape)\n",
    "print(X_test.shape, y_test.shape, ids_test.shape)\n",
    "print()"
   ]
  },
  {
   "cell_type": "code",
   "execution_count": 6,
   "metadata": {},
   "outputs": [
    {
     "name": "stdout",
     "output_type": "stream",
     "text": [
      "Number of train subsets: 8\n",
      "Number of test subsets:  8\n",
      "\n"
     ]
    }
   ],
   "source": [
    "combine_vals = False\n",
    "\n",
    "train_subsets = PRI_jet_num_split(y_train, X_train, ids_train, combine_vals)\n",
    "test_subsets = PRI_jet_num_split(y_test, X_test, ids_test, combine_vals)\n",
    "\n",
    "print(f\"Number of train subsets: { len(train_subsets) }\")\n",
    "print(f\"Number of test subsets:  { len(test_subsets) }\")\n",
    "print()\n",
    "\n",
    "assert len(train_subsets) == len(test_subsets)\n",
    "num_subsets = len(train_subsets)"
   ]
  },
  {
   "cell_type": "code",
   "execution_count": 7,
   "metadata": {},
   "outputs": [],
   "source": [
    "ids = np.array([])\n",
    "y_pred = np.array([])\n",
    "\n",
    "# Polynomial max degree\n",
    "max_degree = 3\n",
    "\n",
    "# GD step sizes, regularization factors\n",
    "# lambdas = np.logspace(0, 1, 5) \n",
    "# gammas = np.logspace(0, 1, 5)\n",
    "# gammas, lambdas = [1e-6, 1e-5, 1e-4], [0.0, 0.1, 1.0]"
   ]
  },
  {
   "cell_type": "code",
   "execution_count": 8,
   "metadata": {},
   "outputs": [
    {
     "name": "stdout",
     "output_type": "stream",
     "text": [
      "Train shape before feature expansion:  (73790, 18)   Test shape: (168195, 18)\n",
      "Train shape after  feature expansion:  (73790, 55)   Test shape: (168195, 55)\n",
      "\n",
      "(0, 0)/(2, 2)\n",
      "(0, 1)/(2, 2)\n",
      "(1, 0)/(2, 2)\n",
      "(1, 1)/(2, 2)\n",
      "CA_te:\n",
      " [[0.67703421 0.67704776]\n",
      " [0.67769827 0.67790156]]\n",
      "LOSS_te:\n",
      " [[122890.12849981 124327.98912757]\n",
      " [193980.64321645 338403.89915438]]\n",
      "Iter: 0  Best gamma: 0.0001  Best lambda: 1.0\n",
      "Train shape before feature expansion:  (26123, 17)   Test shape:  (59263, 17)\n",
      "Train shape after  feature expansion:  (26123, 52)   Test shape:  (59263, 52)\n",
      "\n",
      "(0, 0)/(2, 2)\n",
      "(0, 1)/(2, 2)\n",
      "(1, 0)/(2, 2)\n",
      "(1, 1)/(2, 2)\n",
      "CA_te:\n",
      " [[0.92178407 0.93334609]\n",
      " [0.92913476 0.92997703]]\n",
      "LOSS_te:\n",
      " [[ 4246.70897751  4498.0594989 ]\n",
      " [11218.19951554 11207.81336669]]\n",
      "Iter: 1  Best gamma: 1e-05  Best lambda: 1.0\n",
      "Train shape before feature expansion:  (69982, 22)   Test shape: (158095, 22)\n",
      "Train shape after  feature expansion:  (69982, 67)   Test shape: (158095, 67)\n",
      "\n",
      "(0, 0)/(2, 2)\n",
      "(0, 1)/(2, 2)\n",
      "(1, 0)/(2, 2)\n",
      "(1, 1)/(2, 2)\n",
      "CA_te:\n",
      " [[0.69054015 0.69052586]\n",
      " [0.73895399 0.73913975]]\n",
      "LOSS_te:\n",
      " [[31265.66262122 31291.19318402]\n",
      " [60091.67092727 60778.09885795]]\n",
      "Iter: 2  Best gamma: 0.0001  Best lambda: 1.0\n",
      "Train shape before feature expansion:   (7562, 21)   Test shape:  (17243, 21)\n",
      "Train shape after  feature expansion:   (7562, 64)   Test shape:  (17243, 64)\n",
      "\n",
      "(0, 0)/(2, 2)\n",
      "(0, 1)/(2, 2)\n",
      "(1, 0)/(2, 2)\n",
      "(1, 1)/(2, 2)\n",
      "CA_te:\n",
      " [[0.86415344 0.86428571]\n",
      " [0.88875661 0.89047619]]\n",
      "LOSS_te:\n",
      " [[2127.19322029 2151.21756594]\n",
      " [2011.13068123 2031.36903575]]\n",
      "Iter: 3  Best gamma: 0.0001  Best lambda: 1.0\n",
      "Train shape before feature expansion:  (47427, 29)   Test shape: (107905, 29)\n",
      "Train shape after  feature expansion:  (47427, 88)   Test shape: (107905, 88)\n",
      "\n",
      "(0, 0)/(2, 2)\n",
      "(0, 1)/(2, 2)\n",
      "(1, 0)/(2, 2)\n",
      "(1, 1)/(2, 2)\n",
      "CA_te:\n",
      " [[0.74995783 0.74991565]\n",
      " [0.74588816 0.72001518]]\n",
      "LOSS_te:\n",
      " [[15560.28872894 15586.9724266 ]\n",
      " [46141.26638782 59731.24333123]]\n",
      "Iter: 4  Best gamma: 1e-05  Best lambda: 0.0\n",
      "Train shape before feature expansion:   (2952, 28)   Test shape:   (6743, 28)\n",
      "Train shape after  feature expansion:   (2952, 85)   Test shape:   (6743, 85)\n",
      "\n",
      "(0, 0)/(2, 2)\n",
      "(0, 1)/(2, 2)\n",
      "(1, 0)/(2, 2)\n",
      "(1, 1)/(2, 2)\n",
      "CA_te:\n",
      " [[0.79268293 0.79268293]\n",
      " [0.86415989 0.84756098]]\n",
      "LOSS_te:\n",
      " [[1186.88327455 1216.77640814]\n",
      " [ 528.05737489  806.91803901]]\n",
      "Iter: 5  Best gamma: 0.0001  Best lambda: 0.0\n",
      "Train shape before feature expansion:  (20687, 29)   Test shape:  (47555, 29)\n",
      "Train shape after  feature expansion:  (20687, 88)   Test shape:  (47555, 88)\n",
      "\n",
      "(0, 0)/(2, 2)\n",
      "(0, 1)/(2, 2)\n",
      "(1, 0)/(2, 2)\n",
      "(1, 1)/(2, 2)\n",
      "CA_te:\n",
      " [[0.67076001 0.67105009]\n",
      " [0.71374009 0.72374782]]\n",
      "LOSS_te:\n",
      " [[ 7754.92643322  7741.95745626]\n",
      " [14275.84724767 13133.27177086]]\n",
      "Iter: 6  Best gamma: 0.0001  Best lambda: 1.0\n",
      "Train shape before feature expansion:   (1477, 28)   Test shape:   (3239, 28)\n",
      "Train shape after  feature expansion:   (1477, 85)   Test shape:   (3239, 85)\n",
      "\n",
      "(0, 0)/(2, 2)\n",
      "(0, 1)/(2, 2)\n",
      "(1, 0)/(2, 2)\n",
      "(1, 1)/(2, 2)\n",
      "CA_te:\n",
      " [[0.71476965 0.71476965]\n",
      " [0.9004065  0.90176152]]\n",
      "LOSS_te:\n",
      " [[800.76350919 831.05138372]\n",
      " [265.88965691 277.62856329]]\n",
      "Iter: 7  Best gamma: 0.0001  Best lambda: 1.0\n"
     ]
    }
   ],
   "source": [
    "for i in range(num_subsets):\n",
    "    y_train_subset, X_train_subset, ids_train_subset = train_subsets[i]\n",
    "    y_test_subset, X_test_subset, ids_test_subset = test_subsets[i]\n",
    "\n",
    "    y_train_subset = map_0_1(y_train_subset)\n",
    "    X_train_subset, X_test_subset = standardize(X_train_subset, X_test_subset)\n",
    "    print(f\"Train shape before feature expansion: {str(X_train_subset.shape):>12}   Test shape: {str(X_test_subset.shape):>12}\")\n",
    "    X_train_subset, X_test_subset = build_poly(X_train_subset, max_degree), build_poly(X_test_subset, max_degree)\n",
    "    print(f\"Train shape after  feature expansion: {str(X_train_subset.shape):>12}   Test shape: {str(X_test_subset.shape):>12}\\n\")\n",
    "\n",
    "    N, D = X_train_subset.shape\n",
    "    initial_w = np.random.randn(D)\n",
    "    \n",
    "    # tweak params\n",
    "    k_fold = 4\n",
    "    max_iters = 50\n",
    "    gammas, lambdas = [1e-5, 1e-4], [0.0, 1.0]\n",
    "    seed = 1\n",
    "    batch_size = 1\n",
    "    metric = 'CA'\n",
    "    model = 'LOG_REG_GD'\n",
    "    \n",
    "    # gamma_lambda_selection_cv(y, tx, k_fold, initial_w, max_iters, gammas, lambdas, seed = 1, metric = 'CA', model = 'LOG_REG_GD')\n",
    "    optimal_gamma, optimal_lambda_ = \\\n",
    "        gamma_lambda_selection_cv(y_train_subset, X_train_subset, k_fold, initial_w, max_iters, gammas, lambdas,\n",
    "                                  seed = seed, batch_size = batch_size, metric = metric, model = model)\n",
    "    \n",
    "    print('Iter:', i, ' Best gamma:', optimal_gamma, ' Best lambda:', optimal_lambda_)\n",
    "    \n",
    "    # get_model(model, y, tx, initial_w, max_iters, gamma, lambda_, batch_size)\n",
    "    w = get_model(model, y_train_subset, X_train_subset, initial_w, max_iters, optimal_gamma, optimal_lambda_, batch_size)\n",
    "\n",
    "    y_pred_test = np.array(map_minus_1_1(predict_labels(w, X_test_subset)))\n",
    "\n",
    "    ids = np.concatenate((ids, ids_test_subset))\n",
    "    y_pred = np.concatenate((y_pred, y_pred_test))\n",
    "\n",
    "ids, y_pred = sort_arr(ids, y_pred)\n",
    "create_csv_submission(ids, y_pred, sumbission_fname)"
   ]
  },
  {
   "cell_type": "code",
   "execution_count": null,
   "metadata": {},
   "outputs": [],
   "source": []
  },
  {
   "cell_type": "code",
   "execution_count": null,
   "metadata": {},
   "outputs": [],
   "source": []
  },
  {
   "cell_type": "code",
   "execution_count": null,
   "metadata": {},
   "outputs": [],
   "source": []
  },
  {
   "cell_type": "code",
   "execution_count": null,
   "metadata": {},
   "outputs": [],
   "source": [
    "# USE THIS TO TEST 1 SUBSET\n",
    "\n",
    "i = 0\n",
    "y_train_subset, X_train_subset, ids_train_subset = train_subsets[i]\n",
    "y_test_subset, X_test_subset, ids_test_subset = test_subsets[i]\n",
    "\n",
    "y_train_subset = map_0_1(y_train_subset)\n",
    "X_train_subset, X_test_subset = standardize(X_train_subset, X_test_subset)\n",
    "print(f\"Train shape before feature expansion: {str(X_train_subset.shape):>12}   Test shape: {str(X_test_subset.shape):>12}\\n\")\n",
    "X_train_subset, X_test_subset = build_poly(X_train_subset, max_degree), build_poly(X_test_subset, max_degree)\n",
    "print(f\"Train shape after  feature expansion: {str(X_train_subset.shape):>12}   Test shape: {str(X_test_subset.shape):>12}\\n\")\n",
    "\n",
    "N, D = X_train_subset.shape\n",
    "initial_w = np.random.randn(D)"
   ]
  },
  {
   "cell_type": "code",
   "execution_count": null,
   "metadata": {},
   "outputs": [],
   "source": [
    "# need to choose optimal lambda and optimal gamma together\n",
    "k_fold = 5 # can experiment with different numbers\n",
    "max_iters = 50\n",
    "\n",
    "# GD step sizes, regularization factors\n",
    "gammas, lambdas = [1e-5, 1], [0.0, 0.001]\n",
    "optimal_gamma, optimal_lambda_ = gamma_lambda_selection_cv(y_train_subset, X_train_subset, k_fold, initial_w, max_iters, gammas, lambdas)\n",
    "\n",
    "print(optimal_gamma, optimal_lambda_)\n",
    "\n",
    "_, w = reg_logistic_regression(y_train_subset, X_train_subset, optimal_lambda_, initial_w, max_iters, optimal_gamma)\n",
    "y_pred_test = np.array(map_minus_1_1(predict_labels(w, X_test_subset)))\n",
    "\n",
    "ids = np.concatenate((ids, ids_test_subset))\n",
    "y_pred = np.concatenate((y_pred, y_pred_test))\n",
    "\n",
    "ids, y_pred = sort_arr(ids, y_pred)"
   ]
  },
  {
   "cell_type": "code",
   "execution_count": null,
   "metadata": {},
   "outputs": [],
   "source": []
  }
 ],
 "metadata": {
  "kernelspec": {
   "display_name": "Python 3",
   "language": "python",
   "name": "python3"
  },
  "language_info": {
   "codemirror_mode": {
    "name": "ipython",
    "version": 3
   },
   "file_extension": ".py",
   "mimetype": "text/x-python",
   "name": "python",
   "nbconvert_exporter": "python",
   "pygments_lexer": "ipython3",
   "version": "3.7.4"
  }
 },
 "nbformat": 4,
 "nbformat_minor": 4
}
