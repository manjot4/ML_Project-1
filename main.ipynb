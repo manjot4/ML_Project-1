{
 "cells": [
  {
   "cell_type": "code",
   "execution_count": null,
   "metadata": {},
   "outputs": [],
   "source": [
    "import numpy as np\n",
    "from scripts.helpers import load_csv_data\n",
    "\n",
    "np.random.seed(1)"
   ]
  },
  {
   "cell_type": "code",
   "execution_count": null,
   "metadata": {},
   "outputs": [],
   "source": [
    "train_fname = \"data/train.csv\"\n",
    "test_fname = \"data/test.csv\"\n",
    "\n",
    "y_train, X_train, ids_train = load_csv_data(train_fname)\n",
    "y_test, X_test, ids_test = load_csv_data(test_fname)\n",
    "\n",
    "print(\"Shapes\")\n",
    "print(X_train.shape, y_train.shape, ids_train.shape)\n",
    "print(X_test.shape, y_test.shape, ids_test.shape)\n",
    "print()"
   ]
  },
  {
   "cell_type": "code",
   "execution_count": null,
   "metadata": {},
   "outputs": [],
   "source": [
    "train_subsetsrocessing import PRI_jet_num_split\n",
    "from preprocessing import standardize, minmax_normalize\n",
    "from preprocessing import clean_nan\n",
    "from preprocessing import map_0_1, map_minus_1_1\n",
    "from implementations import reg_logistic_regression\n",
    "from scripts.helpers import predict_labels\n",
    "\n",
    "combine_vals = False\n",
    "\n",
    "train_subsets = PRI_jet_num_split(y_train, X_train, ids_train, combine_vals)\n",
    "test_subsets = PRI_jet_num_split(y_test, X_test, ids_test, combine_vals)\n",
    "\n",
    "print(f\"Number of train subsets: { len(train_subsets) }\")\n",
    "print(f\"Number of test subsets:  { len(test_subsets) }\")\n",
    "print()\n",
    "\n",
    "assert len(train_subsets) == len(test_subsets)\n",
    "\n",
    "num_subsets = len(train_subsets)\n",
    "\n",
    "ids = []\n",
    "y_pred = []\n",
    "\n",
    "for i in range(num_subsets):\n",
    "    y_train_subset, X_train_subset, ids_train_subset = train_subsets[i]\n",
    "    y_test_subset, X_test_subset, ids_test_subset = test_subsets[i]\n",
    "\n",
    "    y_train_subset = map_0_1(y_train_subset)\n",
    "    y_test_subset = map_0_1(y_test_subset)\n",
    "    \n",
    "    X_train_subset, X_test_subset = standardize(X_train_subset, X_test_subset)\n",
    "\n",
    "    N, D = X_train_subset.shape\n",
    "\n",
    "    initial_w = np.random.randn(D)\n",
    "    gamma = 0.01\n",
    "    lambda_ = 0.001\n",
    "    \n",
    "    print(f\"Train shape: {str(X_train_subset.shape):>12}   Test shape: {str(X_test_subset.shape):>12}\")\n",
    "    print()\n",
    "    \n",
    "loss, w = reg_logistic_regression(y_train_subset, X_train_subset, lambda_, initial_w, 100, gamma)\n",
    "labels = predict_labels(w, X_test_subset)\n",
    "\n",
    "labels = map_minus_1_1(labels)\n",
    "\n",
    "print(f\"Number of samples:                      { len(labels) }\")\n",
    "print(f\"Number of correctly classified samples: { np.sum(labels - y_test_subset == 0) }\")\n",
    "print(\"\\n\")    \n",
    "\n",
    "ids.extend(ids_test_subset)\n",
    "y_pred.extend(labels)"
   ]
  },
  {
   "cell_type": "code",
   "execution_count": null,
   "metadata": {},
   "outputs": [],
   "source": [
    "labels"
   ]
  },
  {
   "cell_type": "markdown",
   "metadata": {},
   "source": [
    "## The following cells are experimental ... **REMOVE LATER**"
   ]
  },
  {
   "cell_type": "code",
   "execution_count": null,
   "metadata": {},
   "outputs": [],
   "source": [
    "import pandas as pd\n",
    "from preprocessing import PRI_jet_num_features\n",
    "\n",
    "\n",
    "df_train = pd.read_csv(\"data/train.csv\", na_values=-999).drop(columns=[\"Prediction\", \"Id\"])\n",
    "df_test = pd.read_csv(\"data/test.csv\", na_values=-999).drop(columns=[\"Prediction\", \"Id\"])\n",
    "\n",
    "def generate_datasets(df):\n",
    "    dfs = []\n",
    "    \n",
    "    for group, df_group in df.groupby(\"PRI_jet_num\"):\n",
    "        valid_columns = df_group.columns[df_group.isna().sum() != df_group.shape[0]]\n",
    "\n",
    "        df_group_cpy = df_group.loc[:, valid_columns].drop(columns=\"PRI_jet_num\")\n",
    "\n",
    "        na_mass = df_group_cpy.DER_mass_MMC.isna()\n",
    "\n",
    "        dfs.append(df_group_cpy.loc[~na_mass, :])\n",
    "        dfs.append(df_group_cpy.loc[na_mass, :].drop(columns=\"DER_mass_MMC\"))\n",
    "        \n",
    "    return dfs\n",
    "\n",
    "df_train = generate_datasets(df_train)\n",
    "df_test = generate_datasets(df_test)"
   ]
  },
  {
   "cell_type": "code",
   "execution_count": null,
   "metadata": {},
   "outputs": [],
   "source": [
    "import pandas as pd\n",
    "from preprocessing import PRI_jet_num_features\n",
    "\n",
    "\n",
    "df_train = pd.read_csv(\"data/train.csv\", na_values=-999).drop(columns=[\"Prediction\", \"Id\"])"
   ]
  },
  {
   "cell_type": "code",
   "execution_count": null,
   "metadata": {},
   "outputs": [],
   "source": [
    "df_train[df_train['PRI_jet_num'] == 0].corr()"
   ]
  },
  {
   "cell_type": "code",
   "execution_count": null,
   "metadata": {},
   "outputs": [],
   "source": [
    "df_train[df_train['PRI_jet_num'] == 1].corr()['PRI_jet_leading_pt']"
   ]
  },
  {
   "cell_type": "code",
   "execution_count": null,
   "metadata": {},
   "outputs": [],
   "source": [
    "from sklearn.preprocessing import StandardScaler\n",
    "\n",
    "sc = StandardScaler().fit(df_train[0])\n",
    "\n",
    "sc.transform(df_train[0])"
   ]
  },
  {
   "cell_type": "code",
   "execution_count": null,
   "metadata": {},
   "outputs": [],
   "source": [
    "from preprocessing import standardize, minmax_normalize\n",
    "\n",
    "tr, ts = standardize(df_train[0].values, df_test[0].values)\n",
    "tr"
   ]
  },
  {
   "cell_type": "code",
   "execution_count": null,
   "metadata": {},
   "outputs": [],
   "source": []
  }
 ],
 "metadata": {
  "kernelspec": {
   "display_name": "Python 3",
   "language": "python",
   "name": "python3"
  },
  "language_info": {
   "codemirror_mode": {
    "name": "ipython",
    "version": 3
   },
   "file_extension": ".py",
   "mimetype": "text/x-python",
   "name": "python",
   "nbconvert_exporter": "python",
   "pygments_lexer": "ipython3",
   "version": "3.7.4"
  }
 },
 "nbformat": 4,
 "nbformat_minor": 4
}
