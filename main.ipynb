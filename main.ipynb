{
 "cells": [
  {
   "cell_type": "code",
   "execution_count": 1,
   "metadata": {},
   "outputs": [],
   "source": [
    "import numpy as np\n",
    "from scripts.helpers import load_csv_data\n",
    "\n",
    "np.random.seed(1)"
   ]
  },
  {
   "cell_type": "code",
   "execution_count": 2,
   "metadata": {},
   "outputs": [
    {
     "name": "stdout",
     "output_type": "stream",
     "text": [
      "(250000, 30) (250000,) (250000,)\n",
      "(568238, 30) (568238,) (568238,)\n"
     ]
    }
   ],
   "source": [
    "train_fname = \"data/train.csv\"\n",
    "test_fname = \"data/test.csv\"\n",
    "\n",
    "y_train, X_train, ids_train = load_csv_data(train_fname)\n",
    "y_test, X_test, ids_test = load_csv_data(test_fname)\n",
    "\n",
    "print(X_train.shape, y_train.shape, ids_train.shape)\n",
    "print(X_test.shape, y_test.shape, ids_test.shape)"
   ]
  },
  {
   "cell_type": "code",
   "execution_count": 9,
   "metadata": {},
   "outputs": [
    {
     "name": "stdout",
     "output_type": "stream",
     "text": [
      "Number of train subsets: 8\n",
      "Number of test subsets:  8\n",
      "\n",
      "Train shape:  (73790, 18)   Test shape: (168195, 18)\n",
      "Train shape:  (26123, 17)   Test shape:  (59263, 17)\n",
      "Train shape:  (69982, 22)   Test shape: (158095, 22)\n",
      "Train shape:   (7562, 21)   Test shape:  (17243, 21)\n",
      "Train shape:  (47427, 29)   Test shape: (107905, 29)\n",
      "Train shape:   (2952, 28)   Test shape:   (6743, 28)\n",
      "Train shape:  (20687, 29)   Test shape:  (47555, 29)\n",
      "Train shape:   (1477, 28)   Test shape:   (3239, 28)\n",
      "\n",
      "[ 0.47734343 -0.13022143  1.04760896 -1.66549015  0.1493726  -1.500117\n",
      " -0.04790099 -0.35834149  0.03095506 -0.26197338  0.44304876 -2.1193711\n",
      " -0.9650885  -0.03260867  0.58906858  0.58374653  0.20106434  1.65683906\n",
      " -0.64476133  0.19843401  0.4392428  -0.16347295 -0.35713617  1.69934306\n",
      "  0.9625348   1.05112956  0.16672789 -1.8621725 ]\n"
     ]
    },
    {
     "data": {
      "image/png": "[encoded data removed]",
      "text/plain": [
       "<Figure size 432x288 with 1 Axes>"
      ]
     },
     "metadata": {
      "needs_background": "light"
     },
     "output_type": "display_data"
    }
   ],
   "source": [
    "from preprocessing import PRI_jet_num_split, standardize\n",
    "from models import least_squares_SGD\n",
    "\n",
    "combine_vals = False\n",
    "\n",
    "train_subsets = PRI_jet_num_split(y_train, X_train, ids_train, combine_vals)\n",
    "test_subsets = PRI_jet_num_split(y_test, X_test, ids_test, combine_vals)\n",
    "\n",
    "print(f\"Number of train subsets: { len(train_subsets) }\")\n",
    "print(f\"Number of test subsets:  { len(test_subsets) }\")\n",
    "print()\n",
    "\n",
    "assert len(train_subsets) == len(test_subsets)\n",
    "\n",
    "num_subsets = len(train_subsets)\n",
    "\n",
    "for i in range(num_subsets):\n",
    "    y_train_subset, X_train_subset, ids_train_subset = train_subsets[i]\n",
    "    y_test_subset, X_test_subset, ids_test_subset = test_subsets[i]\n",
    "    \n",
    "    X_train_subset, X_test_subset = standardize(X_train_subset, X_test_subset)\n",
    "\n",
    "    N, D = X_train_subset.shape\n",
    "\n",
    "    initial_w = np.random.randn(D)\n",
    "    gamma = 0.03\n",
    "    \n",
    "    print(f\"Train shape: {str(X_train_subset.shape):>12}   Test shape: {str(X_test_subset.shape):>12}\")\n",
    "    \n",
    "print()\n",
    "    \n",
    "losses, ws = least_squares_SGD(y_train_subset, X_train_subset, initial_w, 20, 50, gamma)\n",
    "\n",
    "from matplotlib import pyplot as plt\n",
    "%matplotlib inline\n",
    "\n",
    "plt.plot(losses)\n",
    "print(ws[-1])"
   ]
  }
 ],
 "metadata": {
  "kernelspec": {
   "display_name": "Python 3",
   "language": "python",
   "name": "python3"
  },
  "language_info": {
   "codemirror_mode": {
    "name": "ipython",
    "version": 3
   },
   "file_extension": ".py",
   "mimetype": "text/x-python",
   "name": "python",
   "nbconvert_exporter": "python",
   "pygments_lexer": "ipython3",
   "version": "3.7.3"
  }
 },
 "nbformat": 4,
 "nbformat_minor": 4
}
