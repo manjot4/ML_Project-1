{
 "cells": [
  {
   "cell_type": "code",
   "execution_count": 1,
   "metadata": {},
   "outputs": [],
   "source": [
    "import numpy as np\n",
    "from scripts.helpers import load_csv_data\n",
    "\n",
    "np.random.seed(1)"
   ]
  },
  {
   "cell_type": "code",
   "execution_count": 2,
   "metadata": {},
   "outputs": [
    {
     "name": "stdout",
     "output_type": "stream",
     "text": [
      "Shapes\n",
      "(250000, 30) (250000,) (250000,)\n",
      "(568238, 30) (568238,) (568238,)\n",
      "\n"
     ]
    }
   ],
   "source": [
    "train_fname = \"data/train.csv\"\n",
    "test_fname = \"data/test.csv\"\n",
    "\n",
    "y_train, X_train, ids_train = load_csv_data(train_fname)\n",
    "y_test, X_test, ids_test = load_csv_data(test_fname)\n",
    "\n",
    "print(\"Shapes\")\n",
    "print(X_train.shape, y_train.shape, ids_train.shape)\n",
    "print(X_test.shape, y_test.shape, ids_test.shape)\n",
    "print()"
   ]
  },
  {
   "cell_type": "code",
   "execution_count": 10,
   "metadata": {},
   "outputs": [
    {
     "name": "stdout",
     "output_type": "stream",
     "text": [
      "Number of train subsets: 8\n",
      "Number of test subsets:  8\n",
      "\n",
      "Train shape:  (73790, 18)   Test shape: (168195, 18)\n",
      "\n",
      "Train shape:  (26123, 17)   Test shape:  (59263, 17)\n",
      "\n",
      "Train shape:  (69982, 22)   Test shape: (158095, 22)\n",
      "\n",
      "Train shape:   (7562, 21)   Test shape:  (17243, 21)\n",
      "\n",
      "Train shape:  (47427, 29)   Test shape: (107905, 29)\n",
      "\n",
      "Train shape:   (2952, 28)   Test shape:   (6743, 28)\n",
      "\n",
      "Train shape:  (20687, 29)   Test shape:  (47555, 29)\n",
      "\n",
      "Train shape:   (1477, 28)   Test shape:   (3239, 28)\n",
      "\n",
      "Number of samples:                      3239\n",
      "Number of correctly classified samples: 1560\n",
      "\n",
      "\n"
     ]
    }
   ],
   "source": [
    "from preprocessing import PRI_jet_num_split\n",
    "from preprocessing import standardize, minmax_normalize\n",
    "from preprocessing import clean_nan\n",
    "from preprocessing import map_0_1, map_minus_1_1\n",
    "from implementations import reg_logistic_regression\n",
    "from scripts.helpers import predict_labels\n",
    "\n",
    "combine_vals = False\n",
    "\n",
    "train_subsets = PRI_jet_num_split(y_train, X_train, ids_train, combine_vals)\n",
    "test_subsets = PRI_jet_num_split(y_test, X_test, ids_test, combine_vals)\n",
    "\n",
    "print(f\"Number of train subsets: { len(train_subsets) }\")\n",
    "print(f\"Number of test subsets:  { len(test_subsets) }\")\n",
    "print()\n",
    "\n",
    "assert len(train_subsets) == len(test_subsets)\n",
    "\n",
    "num_subsets = len(train_subsets)\n",
    "\n",
    "ids = []\n",
    "y_pred = []\n",
    "\n",
    "for i in range(num_subsets):\n",
    "    y_train_subset, X_train_subset, ids_train_subset = train_subsets[i]\n",
    "    y_test_subset, X_test_subset, ids_test_subset = test_subsets[i]\n",
    "\n",
    "    y_train_subset = map_0_1(y_train_subset)\n",
    "    y_test_subset = map_0_1(y_test_subset)\n",
    "    \n",
    "    X_train_subset, X_test_subset = standardize(X_train_subset, X_test_subset)\n",
    "\n",
    "    N, D = X_train_subset.shape\n",
    "\n",
    "    initial_w = np.random.randn(D)\n",
    "    gamma = 0.01\n",
    "    lambda_ = 0.001\n",
    "    \n",
    "    print(f\"Train shape: {str(X_train_subset.shape):>12}   Test shape: {str(X_test_subset.shape):>12}\")\n",
    "    print()\n",
    "    \n",
    "loss, w = reg_logistic_regression(y_train_subset, X_train_subset, lambda_, initial_w, 100, gamma)\n",
    "labels = predict_labels(w, X_test_subset)\n",
    "\n",
    "labels = map_minus_1_1(labels)\n",
    "\n",
    "print(f\"Number of samples:                      { len(labels) }\")\n",
    "print(f\"Number of correctly classified samples: { np.sum(labels - y_test_subset == 0) }\")\n",
    "print(\"\\n\")    \n",
    "\n",
    "ids.extend(ids_test_subset)\n",
    "y_pred.extend(labels)"
   ]
  },
  {
   "cell_type": "code",
   "execution_count": 11,
   "metadata": {},
   "outputs": [
    {
     "data": {
      "text/plain": [
       "array([-1.,  1., -1., ...,  1., -1., -1.])"
      ]
     },
     "execution_count": 11,
     "metadata": {},
     "output_type": "execute_result"
    }
   ],
   "source": [
    "labels"
   ]
  },
  {
   "cell_type": "markdown",
   "metadata": {},
   "source": [
    "## The following cells are experimental ... **REMOVE LATER**"
   ]
  },
  {
   "cell_type": "code",
   "execution_count": 4,
   "metadata": {},
   "outputs": [],
   "source": [
    "import pandas as pd\n",
    "from preprocessing import PRI_jet_num_features\n",
    "\n",
    "\n",
    "df_train = pd.read_csv(\"data/train.csv\", na_values=-999).drop(columns=[\"Prediction\", \"Id\"])\n",
    "df_test = pd.read_csv(\"data/test.csv\", na_values=-999).drop(columns=[\"Prediction\", \"Id\"])\n",
    "\n",
    "def generate_datasets(df):\n",
    "    dfs = []\n",
    "    \n",
    "    for group, df_group in df.groupby(\"PRI_jet_num\"):\n",
    "        valid_columns = df_group.columns[df_group.isna().sum() != df_group.shape[0]]\n",
    "\n",
    "        df_group_cpy = df_group.loc[:, valid_columns].drop(columns=\"PRI_jet_num\")\n",
    "\n",
    "        na_mass = df_group_cpy.DER_mass_MMC.isna()\n",
    "\n",
    "        dfs.append(df_group_cpy.loc[~na_mass, :])\n",
    "        dfs.append(df_group_cpy.loc[na_mass, :].drop(columns=\"DER_mass_MMC\"))\n",
    "        \n",
    "    return dfs\n",
    "\n",
    "df_train = generate_datasets(df_train)\n",
    "df_test = generate_datasets(df_test)"
   ]
  },
  {
   "cell_type": "code",
   "execution_count": 5,
   "metadata": {},
   "outputs": [
    {
     "data": {
      "text/plain": [
       "array([[ 0.44903335,  1.09444079, -0.1438603 , ...,  0.04271563,\n",
       "        -0.85327386,  0.        ],\n",
       "       [ 1.06660202, -1.11511146,  1.38815919, ..., -0.47076088,\n",
       "        -1.47655602,  0.        ],\n",
       "       [-0.29127996,  0.03738266,  0.4263165 , ...,  0.02286047,\n",
       "        -0.02537285,  0.        ],\n",
       "       ...,\n",
       "       [ 0.84333507, -1.641962  ,  0.84705157, ..., -0.76583063,\n",
       "         1.60283374,  0.        ],\n",
       "       [ 0.13824901,  1.14404284,  0.3988686 , ...,  1.48442089,\n",
       "        -0.20487569,  0.        ],\n",
       "       [-0.49694295, -1.0312881 , -0.48890743, ...,  0.45691634,\n",
       "        -0.34875808,  0.        ]])"
      ]
     },
     "execution_count": 5,
     "metadata": {},
     "output_type": "execute_result"
    }
   ],
   "source": [
    "from sklearn.preprocessing import StandardScaler\n",
    "\n",
    "sc = StandardScaler().fit(df_train[0])\n",
    "\n",
    "sc.transform(df_train[0])"
   ]
  },
  {
   "cell_type": "code",
   "execution_count": 6,
   "metadata": {},
   "outputs": [
    {
     "name": "stderr",
     "output_type": "stream",
     "text": [
      "/home/korunosk/EPFL/Courses/Fall 2019/Machine Learning/Projects/Project 1/preprocessing.py:295: RuntimeWarning: invalid value encountered in true_divide\n",
      "  X_train_cpy = X_train_cpy / std\n",
      "/home/korunosk/EPFL/Courses/Fall 2019/Machine Learning/Projects/Project 1/preprocessing.py:296: RuntimeWarning: invalid value encountered in true_divide\n",
      "  X_test_cpy = X_test_cpy / std\n"
     ]
    },
    {
     "data": {
      "text/plain": [
       "array([[ 0.44903335,  1.09444079, -0.1438603 , ...,  0.04271563,\n",
       "        -0.85327386,         nan],\n",
       "       [ 1.06660202, -1.11511146,  1.38815919, ..., -0.47076088,\n",
       "        -1.47655602,         nan],\n",
       "       [-0.29127996,  0.03738266,  0.4263165 , ...,  0.02286047,\n",
       "        -0.02537285,         nan],\n",
       "       ...,\n",
       "       [ 0.84333507, -1.641962  ,  0.84705157, ..., -0.76583063,\n",
       "         1.60283374,         nan],\n",
       "       [ 0.13824901,  1.14404284,  0.3988686 , ...,  1.48442089,\n",
       "        -0.20487569,         nan],\n",
       "       [-0.49694295, -1.0312881 , -0.48890743, ...,  0.45691634,\n",
       "        -0.34875808,         nan]])"
      ]
     },
     "execution_count": 6,
     "metadata": {},
     "output_type": "execute_result"
    }
   ],
   "source": [
    "from preprocessing import standardize, minmax_normalize\n",
    "\n",
    "tr, ts = standardize(df_train[0].values, df_test[0].values)\n",
    "tr"
   ]
  },
  {
   "cell_type": "code",
   "execution_count": null,
   "metadata": {},
   "outputs": [],
   "source": []
  }
 ],
 "metadata": {
  "kernelspec": {
   "display_name": "Python 3",
   "language": "python",
   "name": "python3"
  },
  "language_info": {
   "codemirror_mode": {
    "name": "ipython",
    "version": 3
   },
   "file_extension": ".py",
   "mimetype": "text/x-python",
   "name": "python",
   "nbconvert_exporter": "python",
   "pygments_lexer": "ipython3",
   "version": "3.7.3"
  }
 },
 "nbformat": 4,
 "nbformat_minor": 4
}
