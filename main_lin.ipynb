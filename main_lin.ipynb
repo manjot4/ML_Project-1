{
 "cells": [
  {
   "cell_type": "code",
   "execution_count": 1,
   "metadata": {},
   "outputs": [],
   "source": [
    "import numpy as np\n",
    "\n",
    "from preprocessing import PRI_jet_num_split\n",
    "from preprocessing import standardize, minmax_normalize\n",
    "from preprocessing import clean_nan\n",
    "from preprocessing import map_0_1, map_minus_1_1\n",
    "\n",
    "from cross_validation import get_model, calculate_loss, accuracy, total_cross_validation\n",
    "\n",
    "from implementations import build_poly\n",
    "\n",
    "from helpers import load_csv_data\n",
    "from helpers import predict_labels, create_csv_submission\n",
    "\n",
    "from cross_validation import gamma_lambda_selection_cv\n",
    "from cross_validation import plotting_graphs"
   ]
  },
  {
   "cell_type": "code",
   "execution_count": 2,
   "metadata": {},
   "outputs": [],
   "source": [
    "def sort_arr(ids, y_pred):\n",
    "    idx = ids.argsort()\n",
    "    return ids[idx], y_pred[idx]"
   ]
  },
  {
   "cell_type": "code",
   "execution_count": 3,
   "metadata": {},
   "outputs": [],
   "source": [
    "train_fname = \"data/train.csv\"\n",
    "test_fname = \"data/test.csv\"\n",
    "sumbission_fname = \"data/submission.csv\""
   ]
  },
  {
   "cell_type": "code",
   "execution_count": 4,
   "metadata": {},
   "outputs": [
    {
     "name": "stdout",
     "output_type": "stream",
     "text": [
      "Shapes\n",
      "(250000, 30) (250000,) (250000,)\n",
      "(568238, 30) (568238,) (568238,)\n"
     ]
    }
   ],
   "source": [
    "y_train, X_train, ids_train = load_csv_data(train_fname)\n",
    "y_test, X_test, ids_test = load_csv_data(test_fname)\n",
    "\n",
    "print(\"Shapes\")\n",
    "print(X_train.shape, y_train.shape, ids_train.shape)\n",
    "print(X_test.shape, y_test.shape, ids_test.shape)"
   ]
  },
  {
   "cell_type": "code",
   "execution_count": 5,
   "metadata": {},
   "outputs": [
    {
     "name": "stdout",
     "output_type": "stream",
     "text": [
      "Number of train subsets: 8\n",
      "Number of test subsets:  8\n"
     ]
    }
   ],
   "source": [
    "# combine_vals = True\n",
    "combine_vals = False\n",
    "\n",
    "train_subsets = PRI_jet_num_split(y_train, X_train, ids_train, combine_vals)\n",
    "test_subsets = PRI_jet_num_split(y_test, X_test, ids_test, combine_vals)\n",
    "\n",
    "print(f\"Number of train subsets: { len(train_subsets) }\")\n",
    "print(f\"Number of test subsets:  { len(test_subsets) }\")\n",
    "\n",
    "assert len(train_subsets) == len(test_subsets)\n",
    "num_subsets = len(train_subsets)"
   ]
  },
  {
   "cell_type": "code",
   "execution_count": 29,
   "metadata": {},
   "outputs": [
    {
     "name": "stdout",
     "output_type": "stream",
     "text": [
      "Train shape before feature expansion:  (73790, 17)   Test shape: (168195, 17)\n",
      "Train shape after  feature expansion:  (73790, 52)   Test shape: (168195, 52)\n",
      "Train shape before feature expansion:  (26123, 16)   Test shape:  (59263, 16)\n",
      "Train shape after  feature expansion:  (26123, 49)   Test shape:  (59263, 49)\n",
      "Train shape before feature expansion:  (69982, 19)   Test shape: (158095, 19)\n",
      "Train shape after  feature expansion:  (69982, 58)   Test shape: (158095, 58)\n",
      "Train shape before feature expansion:   (7562, 18)   Test shape:  (17243, 18)\n",
      "Train shape after  feature expansion:   (7562, 37)   Test shape:  (17243, 37)\n",
      "Train shape before feature expansion:  (47427, 27)   Test shape: (107905, 27)\n",
      "Train shape after  feature expansion:  (47427, 82)   Test shape: (107905, 82)\n",
      "Train shape before feature expansion:   (2952, 26)   Test shape:   (6743, 26)\n",
      "Train shape after  feature expansion:   (2952, 79)   Test shape:   (6743, 79)\n",
      "Train shape before feature expansion:  (20687, 26)   Test shape:  (47555, 26)\n",
      "Train shape after  feature expansion:  (20687, 79)   Test shape:  (47555, 79)\n",
      "Train shape before feature expansion:   (1477, 25)   Test shape:   (3239, 25)\n",
      "Train shape after  feature expansion:   (1477, 51)   Test shape:   (3239, 51)\n",
      "Baseline total CA: 0.6697687959376385\n",
      "Expected training accuracy / loss: 0\n",
      "Expected test accuracy / loss: 0\n"
     ]
    }
   ],
   "source": [
    "ids = np.array([])\n",
    "y_pred = np.array([])\n",
    "\n",
    "exp_measure_tr, exp_measure_te = 0, 0\n",
    "max_degree = [3, 3, 3, 2, 3, 3, 3, 2]\n",
    "fs_perc = [0.8, 0.9, 0.9, 0.9, 0.8, 0.8, 0.8, 0.65]\n",
    "gammas, lambdas = [[5e-9], [5e-9], [5e-9], [5e-9], [5e-9], [5e-9], [5e-9], [5e-9]], [[0], [0], [0], [0], [0], [0], [0], [0]] # [[5e-9], [5e-6], [5e-6], [2e-5], [5e-6], [1e-4], [5e-5, 1e-5, 5e-6], [2e-4]], [[0], [1], [1e-1], [0], [1], [1e-1], [1e-1, 1, 5], [0]]\n",
    "gammas_opt, lambdas_opt = [2e-6, 5e-6, 5e-6, 2e-5, 5e-6, 1e-4, 5e-5, 2e-4], [1, 1, 1e-1, 0, 1e-2, 1e-1, 1, 0]\n",
    "\n",
    "exp_measure_tr, exp_measure_te, baseline_tot = 0, 0, 0\n",
    "\n",
    "np.random.seed(6)\n",
    "\n",
    "for i in range(num_subsets):\n",
    "    y_train_subset, X_train_subset, ids_train_subset = train_subsets[i]\n",
    "    y_test_subset, X_test_subset, ids_test_subset = test_subsets[i]\n",
    "\n",
    "    y_train_subset = map_0_1(y_train_subset)\n",
    "    X_train_subset, X_test_subset = standardize(X_train_subset, X_test_subset)\n",
    "    print(f\"Train shape before feature expansion: {str(X_train_subset.shape):>12}   Test shape: {str(X_test_subset.shape):>12}\")\n",
    "    X_train_subset, X_test_subset = build_poly(X_train_subset, max_degree[i]), build_poly(X_test_subset, max_degree[i])\n",
    "    print(f\"Train shape after  feature expansion: {str(X_train_subset.shape):>12}   Test shape: {str(X_test_subset.shape):>12}\")\n",
    "    \n",
    "    # set n_best_features to X_train_subset.shape[1] if you don't want feature selection\n",
    "    n_best_features = round(fs_perc[i] * X_train_subset.shape[1])\n",
    "    # n_best_features = X_train_subset.shape[1]\n",
    "    D = n_best_features\n",
    "    N, _ = X_train_subset.shape\n",
    "    \n",
    "    # accuracy by predicting the majority class in the training dataset\n",
    "    CA_one = y_train_subset.sum() / N\n",
    "    CA_zero = 1 - CA_one\n",
    "    CA_baseline = max(CA_zero, CA_one)\n",
    "    baseline_tot += CA_baseline * X_test_subset.shape[0] / X_test.shape[0]\n",
    "    \n",
    "    ids = np.concatenate((ids, ids_test_subset))\n",
    "    y_pred = np.concatenate((y_pred, np.array([1 if CA_one > CA_zero else -1] * X_test_subset.shape[0])))\n",
    "    continue\n",
    "    \n",
    "    # !!!!!! IMPORTANT\n",
    "    # If we increase the reg. factor (lambda), then we must decrease the step size (gamma)\n",
    "    # else the model diverges as the step size becomes too big.\n",
    "    \n",
    "    # FEATURE SELECTION WITH L1 REG.\n",
    "    max_iters_fs = 300\n",
    "    gamma_fs, lambda_fs = 1e-9, 1e6\n",
    "    model_fs = 'MSE_GD_L1'\n",
    "    \n",
    "    initial_w_fs = np.random.randn(X_train_subset.shape[1])\n",
    "    # get_model(model, y, tx, initial_w, max_iters, gamma, lambda_, batch_size)\n",
    "    w_fs = get_model(model_fs, y_train_subset, X_train_subset, initial_w_fs, max_iters_fs, gamma_fs, lambda_fs, 1)\n",
    "    features = np.argsort(abs(w_fs))[::-1][:n_best_features]\n",
    "    print(w_fs.min(), w_fs.max(), w_fs.mean())\n",
    "    \n",
    "    # Feature selection\n",
    "    X_train_subset, X_test_subset = X_train_subset[:, features], X_test_subset[:, features]\n",
    "    \n",
    "    # tweak params\n",
    "    k_fold = 5\n",
    "    max_iters = 5\n",
    "    # gammas, lambdas = [1e-6, 1e-5], [0.0, 1e-3, 1, 10, 100, 500]\n",
    "    # gammas[0] ... use it for the large datasets with mass feature\n",
    "    # gammas[1] ... use it for the small datasets without mass feature\n",
    "    seed, batch_size = 17, 1\n",
    "    metric, model = 'CA', 'MSE_GD'\n",
    "    \n",
    "    initial_w = np.random.randn(D)\n",
    "    # gamma_lambda_selection_cv(y, tx, k_fold, initial_w, max_iters, gammas, lambdas, seed = 1, metric = 'CA', model = 'LOG_REG_GD')\n",
    "    optimal_gamma, optimal_lambda_, measure_tr, measure_te = \\\n",
    "        gamma_lambda_selection_cv(y_train_subset, X_train_subset, k_fold, initial_w, max_iters, gammas[i], lambdas[i],\n",
    "                                  seed = seed, batch_size = batch_size, metric = metric, model = model)\n",
    "    print('CA_bs:', CA_baseline)\n",
    "    print('Iter:', i, ' Best gamma:', optimal_gamma, ' Best lambda:', optimal_lambda_, '\\n')\n",
    "    \n",
    "    exp_measure_tr += measure_tr * X_train_subset.shape[0] / X_train.shape[0]\n",
    "    exp_measure_te += measure_te * X_test_subset.shape[0] / X_test.shape[0]\n",
    "    \n",
    "    # get_model(model, y, tx, initial_w, max_iters, gamma, lambda_, batch_size)\n",
    "    w = get_model(model, y_train_subset, X_train_subset, initial_w, max_iters, optimal_gamma, optimal_lambda_, batch_size)\n",
    "\n",
    "    y_pred_test = np.array(map_minus_1_1(predict_labels(w, X_test_subset)))\n",
    "    \n",
    "    ids = np.concatenate((ids, ids_test_subset))\n",
    "    y_pred = np.concatenate((y_pred, np.array([0 if CA_one > CA_zero else 1] * X_test_subset.shape[0])))\n",
    "\n",
    "ids, y_pred = sort_arr(ids, y_pred)\n",
    "create_csv_submission(ids, y_pred, sumbission_fname)\n",
    "\n",
    "print(\"Baseline total CA:\", baseline_tot)\n",
    "print(\"Expected training accuracy / loss:\", exp_measure_tr)\n",
    "print(\"Expected test accuracy / loss:\", exp_measure_te)"
   ]
  },
  {
   "cell_type": "code",
   "execution_count": null,
   "metadata": {},
   "outputs": [],
   "source": [
    "from implementations import compute_loss_least_squares_L1\n",
    "from implementations import compute_loss_least_squares\n",
    "import numpy as np\n",
    "\n",
    "def fn(x):\n",
    "    return 1.0 / (1.0 + np.exp(-x))\n",
    "\n",
    "y_example = np.array([2, 4])\n",
    "#x_example, w_start = np.array([[-1, 2, 5, 8], [2, -2, 1, 6], [4, 4, 6, 8]]), np.array([0, 0, 0, 0])\n",
    "x_example, w_start = np.array([[1, 3], [1, 6]]), np.array([0, 0])\n",
    "lambda_example = 0\n",
    "\n",
    "w_example_GD = get_model('MSE_GD_L1', y_example, x_example, w_start, 10000, 1e-2, lambda_example, 1)\n",
    "\n",
    "# w_example[0] = 33.379\\n\",\n",
    "print(w_example_GD)\n",
    "print(compute_loss_least_squares_L1(y_example, x_example, w_start, lambda_example))\n",
    "print(compute_loss_least_squares_L1(y_example, x_example, w_example_GD, lambda_example))\n",
    "print(np.array([1, 6]).dot(w_example_GD))"
   ]
  },
  {
   "cell_type": "code",
   "execution_count": null,
   "metadata": {},
   "outputs": [],
   "source": []
  },
  {
   "cell_type": "code",
   "execution_count": null,
   "metadata": {},
   "outputs": [],
   "source": []
  }
 ],
 "metadata": {
  "kernelspec": {
   "display_name": "Python 3",
   "language": "python",
   "name": "python3"
  },
  "language_info": {
   "codemirror_mode": {
    "name": "ipython",
    "version": 3
   },
   "file_extension": ".py",
   "mimetype": "text/x-python",
   "name": "python",
   "nbconvert_exporter": "python",
   "pygments_lexer": "ipython3",
   "version": "3.7.4"
  }
 },
 "nbformat": 4,
 "nbformat_minor": 4
}
