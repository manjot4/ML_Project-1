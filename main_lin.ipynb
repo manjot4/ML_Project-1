{
 "cells": [
  {
   "cell_type": "code",
   "execution_count": 1,
   "metadata": {},
   "outputs": [],
   "source": [
    "import numpy as np\n",
    "\n",
    "from preprocessing import PRI_jet_num_split\n",
    "from preprocessing import standardize, minmax_normalize\n",
    "from preprocessing import clean_nan\n",
    "from preprocessing import map_0_1, map_minus_1_1\n",
    "\n",
    "from cross_validation import get_model, calculate_loss, accuracy, total_cross_validation\n",
    "\n",
    "from implementations import build_poly\n",
    "\n",
    "from helpers import load_csv_data\n",
    "from helpers import predict_labels, create_csv_submission\n",
    "\n",
    "from cross_validation import gamma_lambda_selection_cv\n",
    "from cross_validation import plotting_graphs"
   ]
  },
  {
   "cell_type": "code",
   "execution_count": null,
   "metadata": {},
   "outputs": [],
   "source": [
    "def sort_arr(ids, y_pred):\n",
    "    idx = ids.argsort()\n",
    "    return ids[idx], y_pred[idx]"
   ]
  },
  {
   "cell_type": "code",
   "execution_count": null,
   "metadata": {},
   "outputs": [],
   "source": [
    "train_fname = \"data/train.csv\"\n",
    "test_fname = \"data/test.csv\"\n",
    "sumbission_fname = \"data/submission.csv\""
   ]
  },
  {
   "cell_type": "code",
   "execution_count": null,
   "metadata": {},
   "outputs": [],
   "source": [
    "y_train, X_train, ids_train = load_csv_data(train_fname)\n",
    "y_test, X_test, ids_test = load_csv_data(test_fname)\n",
    "\n",
    "print(\"Shapes\")\n",
    "print(X_train.shape, y_train.shape, ids_train.shape)\n",
    "print(X_test.shape, y_test.shape, ids_test.shape)"
   ]
  },
  {
   "cell_type": "code",
   "execution_count": null,
   "metadata": {},
   "outputs": [],
   "source": [
    "# combine_vals = True\n",
    "combine_vals = False\n",
    "\n",
    "train_subsets = PRI_jet_num_split(y_train, X_train, ids_train, combine_vals)\n",
    "test_subsets = PRI_jet_num_split(y_test, X_test, ids_test, combine_vals)\n",
    "\n",
    "print(f\"Number of train subsets: { len(train_subsets) }\")\n",
    "print(f\"Number of test subsets:  { len(test_subsets) }\")\n",
    "\n",
    "assert len(train_subsets) == len(test_subsets)\n",
    "num_subsets = len(train_subsets)"
   ]
  },
  {
   "cell_type": "code",
   "execution_count": null,
   "metadata": {},
   "outputs": [],
   "source": [
    "ids = np.array([])\n",
    "y_pred = np.array([])\n",
    "\n",
    "exp_measure_tr, exp_measure_te = 0, 0\n",
    "max_degree = [3, 3, 3, 2, 3, 3, 3, 2]\n",
    "fs_perc = [0.8, 0.9, 0.9, 0.9, 0.8, 0.8, 0.8, 0.65]\n",
    "gammas, lambdas = [[2e-6], [5e-6], [5e-6], [2e-5], [5e-6], [1e-4], [5e-5, 1e-5, 5e-6], [2e-4]], [[1], [1], [1e-1], [0], [1], [1e-1], [1e-1, 1, 5], [0]]\n",
    "gammas_opt, lambdas_opt = [2e-6, 5e-6, 5e-6, 2e-5, 5e-6, 1e-4, 5e-5, 2e-4], [1, 1, 1e-1, 0, 1e-2, 1e-1, 1, 0]\n",
    "\n",
    "exp_measure_tr, exp_measure_te = 0, 0\n",
    "\n",
    "np.random.seed(6)\n",
    "\n",
    "for i in range(num_subsets):\n",
    "    y_train_subset, X_train_subset, ids_train_subset = train_subsets[i]\n",
    "    y_test_subset, X_test_subset, ids_test_subset = test_subsets[i]\n",
    "\n",
    "    y_train_subset = map_0_1(y_train_subset)\n",
    "    X_train_subset, X_test_subset = standardize(X_train_subset, X_test_subset)\n",
    "    print(f\"Train shape before feature expansion: {str(X_train_subset.shape):>12}   Test shape: {str(X_test_subset.shape):>12}\")\n",
    "    X_train_subset, X_test_subset = build_poly(X_train_subset, max_degree[i]), build_poly(X_test_subset, max_degree[i])\n",
    "    print(f\"Train shape after  feature expansion: {str(X_train_subset.shape):>12}   Test shape: {str(X_test_subset.shape):>12}\")\n",
    "    \n",
    "    # set n_best_features to X_train_subset.shape[1] if you don't want feature selection\n",
    "    n_best_features = round(fs_perc[i] * X_train_subset.shape[1])\n",
    "    # n_best_features = X_train_subset.shape[1]\n",
    "    D = n_best_features\n",
    "    N, _ = X_train_subset.shape\n",
    "    \n",
    "    # accuracy by predicting the majority class in the training dataset\n",
    "    CA_one = y_train_subset.sum() / N\n",
    "    CA_zero = 1 - CA_one\n",
    "    CA_baseline = max(CA_zero, CA_one)\n",
    "    \n",
    "    # !!!!!! IMPORTANT\n",
    "    # If we increase the reg. factor (lambda), then we must decrease the step size (gamma)\n",
    "    # else the model diverges as the step size becomes too big.\n",
    "    \n",
    "    # FEATURE SELECTION WITH L1 REG.\n",
    "    max_iters_fs = 300\n",
    "    gamma_fs, lambda_fs = 1e-7, 1e2\n",
    "    model_fs = 'LOG_REG_L1'\n",
    "    \n",
    "    initial_w_fs = np.random.randn(X_train_subset.shape[1])\n",
    "    # get_model(model, y, tx, initial_w, max_iters, gamma, lambda_, batch_size)\n",
    "    w_fs = get_model(model_fs, y_train_subset, X_train_subset, initial_w_fs, max_iters_fs, gamma_fs, lambda_fs, 1)\n",
    "    features = np.argsort(abs(w_fs))[::-1][:n_best_features]\n",
    "    print(w_fs.min(), w_fs.max(), w_fs.mean())\n",
    "    \n",
    "    # Feature selection\n",
    "    X_train_subset, X_test_subset = X_train_subset[:, features], X_test_subset[:, features]\n",
    "    \n",
    "    # tweak params\n",
    "    k_fold = 5\n",
    "    max_iters = 1500\n",
    "    # gammas, lambdas = [1e-6, 1e-5], [0.0, 1e-3, 1, 10, 100, 500]\n",
    "    # gammas[0] ... use it for the large datasets with mass feature\n",
    "    # gammas[1] ... use it for the small datasets without mass feature\n",
    "    seed, batch_size = 17, 1\n",
    "    metric, model = 'CA', 'MSE_OPT_REG'\n",
    "    \n",
    "    initial_w = np.random.randn(D)\n",
    "    # gamma_lambda_selection_cv(y, tx, k_fold, initial_w, max_iters, gammas, lambdas, seed = 1, metric = 'CA', model = 'LOG_REG_GD')\n",
    "    optimal_gamma, optimal_lambda_, measure_tr, measure_te = \\\n",
    "        gamma_lambda_selection_cv(y_train_subset, X_train_subset, k_fold, initial_w, max_iters, gammas[i], lambdas[i],\n",
    "                                  seed = seed, batch_size = batch_size, metric = metric, model = model)\n",
    "    print('CA_bs:', CA_baseline)\n",
    "    print('Iter:', i, ' Best gamma:', optimal_gamma, ' Best lambda:', optimal_lambda_, '\\n')\n",
    "    \n",
    "    exp_measure_tr += measure_tr * X_train_subset.shape[0] / X_train.shape[0]\n",
    "    exp_measure_te += measure_te * X_test_subset.shape[0] / X_test.shape[0]\n",
    "    \n",
    "    # get_model(model, y, tx, initial_w, max_iters, gamma, lambda_, batch_size)\n",
    "    w = get_model(model, y_train_subset, X_train_subset, initial_w, max_iters, optimal_gamma, optimal_lambda_, batch_size)\n",
    "\n",
    "    y_pred_test = np.array(map_minus_1_1(predict_labels(w, X_test_subset)))\n",
    "    ids = np.concatenate((ids, ids_test_subset))\n",
    "    y_pred = np.concatenate((y_pred, y_pred_test))\n",
    "\n",
    "ids, y_pred = sort_arr(ids, y_pred)\n",
    "create_csv_submission(ids, y_pred, sumbission_fname)\n",
    "\n",
    "print(\"Expected training accuracy / loss:\", exp_measure_tr)\n",
    "print(\"Expected test accuracy / loss:\", exp_measure_te)"
   ]
  },
  {
   "cell_type": "code",
   "execution_count": 9,
   "metadata": {},
   "outputs": [
    {
     "name": "stdout",
     "output_type": "stream",
     "text": [
      "[0.66666667 0.        ]\n",
      "5.0\n",
      "2.465190328815662e-31\n",
      "2.6664\n"
     ]
    }
   ],
   "source": [
    "from implementations import compute_loss_least_squares_L1\n",
    "from implementations import compute_loss_least_squares\n",
    "import numpy as np\n",
    "\n",
    "def fn(x):\n",
    "    return 1.0 / (1.0 + np.exp(-x))\n",
    "\n",
    "y_example = np.array([2, 4])\n",
    "#x_example, w_start = np.array([[-1, 2, 5, 8], [2, -2, 1, 6], [4, 4, 6, 8]]), np.array([0, 0, 0, 0])\n",
    "x_example, w_start = np.array([[3, 0], [6, 0]]), np.array([0, 0])\n",
    "lambda_example = 0\n",
    "\n",
    "w_example_GD = get_model('MSE_GD', y_example, x_example, w_start, 10000, 1e-2, lambda_example, 1)\n",
    "\n",
    "# w_example[0] = 33.379\\n\",\n",
    "print(w_example_GD)\n",
    "print(compute_loss_least_squares_L1(y_example, x_example, w_start, lambda_example))\n",
    "print(compute_loss_least_squares_L1(y_example, x_example, w_example_GD, lambda_example))\n"
   ]
  },
  {
   "cell_type": "code",
   "execution_count": null,
   "metadata": {},
   "outputs": [],
   "source": []
  },
  {
   "cell_type": "code",
   "execution_count": null,
   "metadata": {},
   "outputs": [],
   "source": []
  }
 ],
 "metadata": {
  "kernelspec": {
   "display_name": "Python 3",
   "language": "python",
   "name": "python3"
  },
  "language_info": {
   "codemirror_mode": {
    "name": "ipython",
    "version": 3
   },
   "file_extension": ".py",
   "mimetype": "text/x-python",
   "name": "python",
   "nbconvert_exporter": "python",
   "pygments_lexer": "ipython3",
   "version": "3.6.4"
  }
 },
 "nbformat": 4,
 "nbformat_minor": 4
}
